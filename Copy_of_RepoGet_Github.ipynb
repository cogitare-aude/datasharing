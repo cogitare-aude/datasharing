{
  "nbformat": 4,
  "nbformat_minor": 0,
  "metadata": {
    "colab": {
      "name": "Copy of Thesis_Github.ipynb",
      "provenance": [],
      "collapsed_sections": [
        "kmkJzY8BMXkE",
        "srJhy-5gupTG",
        "s-OSKWJhZcOk",
        "Q3AEYU7BuqPy"
      ],
      "authorship_tag": "ABX9TyM5OLABKGBsNGupx1+kZdAs",
      "include_colab_link": true
    },
    "kernelspec": {
      "name": "python3",
      "display_name": "Python 3"
    },
    "language_info": {
      "name": "python"
    },
    "widgets": {
      "application/vnd.jupyter.widget-state+json": {
        "4bb505eb30464694a16c2668eeb7ae24": {
          "model_module": "@jupyter-widgets/controls",
          "model_name": "IntProgressModel",
          "model_module_version": "1.5.0",
          "state": {
            "_dom_classes": [],
            "_model_module": "@jupyter-widgets/controls",
            "_model_module_version": "1.5.0",
            "_model_name": "IntProgressModel",
            "_view_count": null,
            "_view_module": "@jupyter-widgets/controls",
            "_view_module_version": "1.5.0",
            "_view_name": "ProgressView",
            "bar_style": "",
            "description": "",
            "description_tooltip": null,
            "layout": "IPY_MODEL_517b3f61c5904a63904c4fd00768abd8",
            "max": 0,
            "min": 0,
            "orientation": "horizontal",
            "style": "IPY_MODEL_05e8d3169ce14caaa0875bd9c96a7f46",
            "value": 0
          }
        },
        "517b3f61c5904a63904c4fd00768abd8": {
          "model_module": "@jupyter-widgets/base",
          "model_name": "LayoutModel",
          "model_module_version": "1.2.0",
          "state": {
            "_model_module": "@jupyter-widgets/base",
            "_model_module_version": "1.2.0",
            "_model_name": "LayoutModel",
            "_view_count": null,
            "_view_module": "@jupyter-widgets/base",
            "_view_module_version": "1.2.0",
            "_view_name": "LayoutView",
            "align_content": null,
            "align_items": null,
            "align_self": null,
            "border": null,
            "bottom": null,
            "display": null,
            "flex": null,
            "flex_flow": null,
            "grid_area": null,
            "grid_auto_columns": null,
            "grid_auto_flow": null,
            "grid_auto_rows": null,
            "grid_column": null,
            "grid_gap": null,
            "grid_row": null,
            "grid_template_areas": null,
            "grid_template_columns": null,
            "grid_template_rows": null,
            "height": null,
            "justify_content": null,
            "justify_items": null,
            "left": null,
            "margin": null,
            "max_height": null,
            "max_width": null,
            "min_height": null,
            "min_width": null,
            "object_fit": null,
            "object_position": null,
            "order": null,
            "overflow": null,
            "overflow_x": null,
            "overflow_y": null,
            "padding": null,
            "right": null,
            "top": null,
            "visibility": null,
            "width": null
          }
        },
        "05e8d3169ce14caaa0875bd9c96a7f46": {
          "model_module": "@jupyter-widgets/controls",
          "model_name": "ProgressStyleModel",
          "model_module_version": "1.5.0",
          "state": {
            "_model_module": "@jupyter-widgets/controls",
            "_model_module_version": "1.5.0",
            "_model_name": "ProgressStyleModel",
            "_view_count": null,
            "_view_module": "@jupyter-widgets/base",
            "_view_module_version": "1.2.0",
            "_view_name": "StyleView",
            "bar_color": null,
            "description_width": ""
          }
        },
        "918de5470f68438dbd2698d88082a08a": {
          "model_module": "@jupyter-widgets/controls",
          "model_name": "IntProgressModel",
          "model_module_version": "1.5.0",
          "state": {
            "_dom_classes": [],
            "_model_module": "@jupyter-widgets/controls",
            "_model_module_version": "1.5.0",
            "_model_name": "IntProgressModel",
            "_view_count": null,
            "_view_module": "@jupyter-widgets/controls",
            "_view_module_version": "1.5.0",
            "_view_name": "ProgressView",
            "bar_style": "",
            "description": "",
            "description_tooltip": null,
            "layout": "IPY_MODEL_dd3a11e4579f45548a3add4f48e6dc97",
            "max": 16065,
            "min": 1,
            "orientation": "horizontal",
            "style": "IPY_MODEL_dc96c7bf9dcc479fabd26a0b310cba5b",
            "value": 921
          }
        },
        "dd3a11e4579f45548a3add4f48e6dc97": {
          "model_module": "@jupyter-widgets/base",
          "model_name": "LayoutModel",
          "model_module_version": "1.2.0",
          "state": {
            "_model_module": "@jupyter-widgets/base",
            "_model_module_version": "1.2.0",
            "_model_name": "LayoutModel",
            "_view_count": null,
            "_view_module": "@jupyter-widgets/base",
            "_view_module_version": "1.2.0",
            "_view_name": "LayoutView",
            "align_content": null,
            "align_items": null,
            "align_self": null,
            "border": null,
            "bottom": null,
            "display": null,
            "flex": null,
            "flex_flow": null,
            "grid_area": null,
            "grid_auto_columns": null,
            "grid_auto_flow": null,
            "grid_auto_rows": null,
            "grid_column": null,
            "grid_gap": null,
            "grid_row": null,
            "grid_template_areas": null,
            "grid_template_columns": null,
            "grid_template_rows": null,
            "height": null,
            "justify_content": null,
            "justify_items": null,
            "left": null,
            "margin": null,
            "max_height": null,
            "max_width": null,
            "min_height": null,
            "min_width": null,
            "object_fit": null,
            "object_position": null,
            "order": null,
            "overflow": null,
            "overflow_x": null,
            "overflow_y": null,
            "padding": null,
            "right": null,
            "top": null,
            "visibility": null,
            "width": null
          }
        },
        "dc96c7bf9dcc479fabd26a0b310cba5b": {
          "model_module": "@jupyter-widgets/controls",
          "model_name": "ProgressStyleModel",
          "model_module_version": "1.5.0",
          "state": {
            "_model_module": "@jupyter-widgets/controls",
            "_model_module_version": "1.5.0",
            "_model_name": "ProgressStyleModel",
            "_view_count": null,
            "_view_module": "@jupyter-widgets/base",
            "_view_module_version": "1.2.0",
            "_view_name": "StyleView",
            "bar_color": null,
            "description_width": ""
          }
        }
      }
    }
  },
  "cells": [
    {
      "cell_type": "markdown",
      "metadata": {
        "id": "view-in-github",
        "colab_type": "text"
      },
      "source": [
        "<a href=\"https://colab.research.google.com/github/cogitare-aude/datasharing/blob/master/Copy_of_RepoGet_Github.ipynb\" target=\"_parent\"><img src=\"https://colab.research.google.com/assets/colab-badge.svg\" alt=\"Open In Colab\"/></a>"
      ]
    },
    {
      "cell_type": "code",
      "source": [
        "#General Code\n",
        "\n",
        "#give access to My Drive (Google Drive)\n",
        "from google.colab import drive\n",
        "drive.mount('/content/drive')"
      ],
      "metadata": {
        "colab": {
          "base_uri": "https://localhost:8080/"
        },
        "id": "O1O3kf08NH7f",
        "outputId": "3a0f419b-f1b9-4a16-ac76-af5e6952ab88"
      },
      "execution_count": null,
      "outputs": [
        {
          "output_type": "stream",
          "name": "stdout",
          "text": [
            "Drive already mounted at /content/drive; to attempt to forcibly remount, call drive.mount(\"/content/drive\", force_remount=True).\n"
          ]
        }
      ]
    },
    {
      "cell_type": "code",
      "source": [
        "#define path for this project\n",
        "import os\n",
        "os.chdir('drive/My Drive/Colab Notebooks/Capstone')"
      ],
      "metadata": {
        "id": "7fvci7_db5OW"
      },
      "execution_count": null,
      "outputs": []
    },
    {
      "cell_type": "code",
      "source": [
        "#install library to manage Github via. Python\n",
        "%pip install PyGithub"
      ],
      "metadata": {
        "colab": {
          "base_uri": "https://localhost:8080/"
        },
        "id": "m-9R22Y0KQos",
        "outputId": "03ccc5eb-bc5c-42c6-98a3-440600281c6e"
      },
      "execution_count": null,
      "outputs": [
        {
          "output_type": "stream",
          "name": "stdout",
          "text": [
            "Looking in indexes: https://pypi.org/simple, https://us-python.pkg.dev/colab-wheels/public/simple/\n",
            "Requirement already satisfied: PyGithub in /usr/local/lib/python3.7/dist-packages (1.55)\n",
            "Requirement already satisfied: pynacl>=1.4.0 in /usr/local/lib/python3.7/dist-packages (from PyGithub) (1.5.0)\n",
            "Requirement already satisfied: pyjwt>=2.0 in /usr/local/lib/python3.7/dist-packages (from PyGithub) (2.4.0)\n",
            "Requirement already satisfied: requests>=2.14.0 in /usr/local/lib/python3.7/dist-packages (from PyGithub) (2.23.0)\n",
            "Requirement already satisfied: deprecated in /usr/local/lib/python3.7/dist-packages (from PyGithub) (1.2.13)\n",
            "Requirement already satisfied: cffi>=1.4.1 in /usr/local/lib/python3.7/dist-packages (from pynacl>=1.4.0->PyGithub) (1.15.0)\n",
            "Requirement already satisfied: pycparser in /usr/local/lib/python3.7/dist-packages (from cffi>=1.4.1->pynacl>=1.4.0->PyGithub) (2.21)\n",
            "Requirement already satisfied: certifi>=2017.4.17 in /usr/local/lib/python3.7/dist-packages (from requests>=2.14.0->PyGithub) (2022.5.18.1)\n",
            "Requirement already satisfied: idna<3,>=2.5 in /usr/local/lib/python3.7/dist-packages (from requests>=2.14.0->PyGithub) (2.10)\n",
            "Requirement already satisfied: urllib3!=1.25.0,!=1.25.1,<1.26,>=1.21.1 in /usr/local/lib/python3.7/dist-packages (from requests>=2.14.0->PyGithub) (1.24.3)\n",
            "Requirement already satisfied: chardet<4,>=3.0.2 in /usr/local/lib/python3.7/dist-packages (from requests>=2.14.0->PyGithub) (3.0.4)\n",
            "Requirement already satisfied: wrapt<2,>=1.10 in /usr/local/lib/python3.7/dist-packages (from deprecated->PyGithub) (1.14.1)\n"
          ]
        }
      ]
    },
    {
      "cell_type": "code",
      "source": [
        "#Libraries\n",
        "\n",
        "#for Git API\n",
        "from github import Github \n",
        "\n",
        "#for API sleep timer\n",
        "import calendar\n",
        "import time\n",
        "import datetime\n",
        "\n",
        "#dealing with website headers\n",
        "import json\n",
        "import requests\n",
        "\n",
        "#regex\n",
        "import re\n",
        "\n",
        "#for saving to disk\n",
        "import pickle\n",
        "\n",
        "#progress bar\n",
        "from ipywidgets import IntProgress\n",
        "from IPython.display import display\n",
        "\n",
        "#for dynamic printing\n",
        "#from sys import stdout\n",
        "\n",
        "import pandas as pd\n"
      ],
      "metadata": {
        "id": "IeRh7ZWgNRak"
      },
      "execution_count": null,
      "outputs": []
    },
    {
      "cell_type": "code",
      "source": [
        "#Github API \n",
        "\n",
        "#Github Auth Token (private)\n",
        "with open('credentials.txt', 'rb') as file:\n",
        "  lines = file.readlines()\n",
        "  git_hub_cred = lines[0]\n",
        "  git_hub_cred = git_hub_cred.decode('utf-8') #decode bytes\n",
        "\n",
        "#Authenticate to create Github Object (API-auth token)\n",
        "git_obj = Github(git_hub_cred)"
      ],
      "metadata": {
        "id": "m5DNhg4uM_4X"
      },
      "execution_count": null,
      "outputs": []
    },
    {
      "cell_type": "code",
      "source": [
        "#Github API limit \n",
        "#ref.https://github.com/PyGithub/PyGithub/issues/1319\n",
        "\n",
        "core_rate_limit = git_obj.get_rate_limit().core #24-hour 5000 pings to GitHub, returns reset-DTM\n",
        "reset_timestamp = calendar.timegm(core_rate_limit.reset.timetuple()) #returns the corresponding Unix timestamp value\n",
        "sleep_time = reset_timestamp - calendar.timegm(time.gmtime()) + 5  #add 5 seconds to be sure the rate limit has been reset\n",
        "#system waits until (1-hr) re-set to continue\n",
        "#time.sleep(sleep_time)"
      ],
      "metadata": {
        "id": "5LjKqLjGd4cU"
      },
      "execution_count": null,
      "outputs": []
    },
    {
      "cell_type": "code",
      "source": [
        "\n",
        "#top 30 repos (defualt page size =30)\n",
        "repos = results_dict['items']\n",
        "len(repos)\n",
        "\n",
        "repo_df = pd.DataFrame(repos)"
      ],
      "metadata": {
        "id": "YiWFUpmZ6XS7"
      },
      "execution_count": null,
      "outputs": []
    },
    {
      "cell_type": "code",
      "source": [
        "real_issues = [issue_content for i in range(round(issues.totalCount / 30) + 1) for issue_content in issues.get_page(i) if not issue_content.pull_request]\n",
        "#issues-object includes git-issues & pull-requests, only keep real-issues\n",
        "#ea. page (more issues = more pages) contains a list of issues, only keep issues that are real-git-issues (not PRs)\n"
      ],
      "metadata": {
        "id": "eZGA36AqjF9k"
      },
      "execution_count": null,
      "outputs": []
    },
    {
      "cell_type": "code",
      "source": [
        "rtn = {}\n",
        "for issue_content in real_issues:\n",
        "  iss_dict = {\"title\": issue_content.title, #title of issue\n",
        "              \"body\": issue_content.body, #original comment\n",
        "              \"state\": issue_content.state,\n",
        "              \"comments\": [comment.body for comment in issue_content.get_comments()]} #follow-up comments\n",
        "  rtn[issue_content.number] = iss_dict\n",
        "\n",
        "\n",
        "#note:\n",
        "# ```content``` -> quoted code chunck\n",
        "# `conetent` -> quoted code line\n",
        "# _italic_, **bold**, [hyperlink](www.w.com)\n",
        "# ea. comment after body is separated by \"\" or ''"
      ],
      "metadata": {
        "id": "2iwfoyv4hOoX"
      },
      "execution_count": null,
      "outputs": []
    },
    {
      "cell_type": "code",
      "source": [
        "real_issues[0]"
      ],
      "metadata": {
        "colab": {
          "base_uri": "https://localhost:8080/"
        },
        "id": "wZr7nV8optNj",
        "outputId": "591fb6bd-f525-49f2-eb64-6217d7344a26"
      },
      "execution_count": null,
      "outputs": [
        {
          "output_type": "execute_result",
          "data": {
            "text/plain": [
              "Issue(title=\"Question Importing Data (P1)\", number=3)"
            ]
          },
          "metadata": {},
          "execution_count": 151
        }
      ]
    },
    {
      "cell_type": "code",
      "source": [
        "for comment in real_issues[0].get_comments():\n",
        "  print(comment)\n",
        "  #comment.user\n",
        "  #comment.created_at\n",
        "  for reaction in comment.get_reactions():\n",
        "    print(reaction.content)\n"
      ],
      "metadata": {
        "colab": {
          "base_uri": "https://localhost:8080/"
        },
        "id": "tcBq_hzOo0k8",
        "outputId": "7dc74734-563e-4728-9328-4b38afa0f198"
      },
      "execution_count": null,
      "outputs": [
        {
          "output_type": "stream",
          "name": "stdout",
          "text": [
            "IssueComment(user=NamedUser(login=\"JohannaPferd\"), id=974707646)\n",
            "+1\n",
            "IssueComment(user=NamedUser(login=\"cogitare-aude\"), id=1153131919)\n",
            "heart\n",
            "-1\n",
            "IssueComment(user=NamedUser(login=\"cogitare-aude\"), id=1153148525)\n"
          ]
        }
      ]
    },
    {
      "cell_type": "code",
      "source": [
        "reaction.content"
      ],
      "metadata": {
        "colab": {
          "base_uri": "https://localhost:8080/",
          "height": 35
        },
        "id": "NBR3rFwA0xLM",
        "outputId": "3fbb83d7-3809-4e0b-a9c7-4b72a1569029"
      },
      "execution_count": null,
      "outputs": [
        {
          "output_type": "execute_result",
          "data": {
            "text/plain": [
              "'heart'"
            ],
            "application/vnd.google.colaboratory.intrinsic+json": {
              "type": "string"
            }
          },
          "metadata": {},
          "execution_count": 138
        }
      ]
    },
    {
      "cell_type": "code",
      "source": [
        "#all parsable data from git-issue-comment object\n",
        "comment.raw_data\n"
      ],
      "metadata": {
        "id": "gfRh_SgOpMfj"
      },
      "execution_count": null,
      "outputs": []
    },
    {
      "cell_type": "code",
      "source": [
        "#all parsable data from git-issue object\n",
        "real_issues[0].raw_data"
      ],
      "metadata": {
        "id": "ZvIeuG6csZ1V"
      },
      "execution_count": null,
      "outputs": []
    },
    {
      "cell_type": "code",
      "source": [
        "#ref. https://stackoverflow.com/questions/57211865/downloading-issues-from-a-public-github-repository\n",
        "\n",
        "def download_github_issues_as_dict(repo_url, token):\n",
        "    '''\n",
        "    since GitHub doesn't make it super easy to download GitHub issues...\n",
        "    :param repo_url: the full URL of the repo (don't include the trailing \"/\" nor \".git\" suffix).\n",
        "    :param token: a GitHub Personal Access Token (create from GitHub itself)\n",
        "    :return: a dictionary that can be easily json-ified with the relevant info from the issues.\n",
        "    '''\n",
        "\n",
        "    assert isinstance(repo_url, str) and not repo_url.endswith(\"/\") and repo_url.endswith(\".git\") and \"/\" in repo_url , \"need proper url: 'https://github.com/repo-owner/repo-name'\"\n",
        "    assert isinstance(token, str), \"need str-type unique Github token\"\n",
        "\n",
        "    git_obj = github.Github(token)\n",
        "    user_str, repo_str = repo_url.replace(\"https://github.com/\", \"\").split(\"/\")\n",
        "    user = git_obj.get_user(user_str)\n",
        "    repo = user.get_repo(repo_str)\n",
        "    issues = repo.get_issues(state=\"all\")\n",
        "\n",
        "    # (30 issues per page, find total number of pages that need parsing) the number 30 is hardcoded into the PyGitHub\n",
        "    real_issues = [_ for i in range(round(issues.totalCount / 30) + 1) for _ in issues.get_page(i) if\n",
        "                   not _.pull_request]\n",
        "    rtn = {}\n",
        "    for iss in real_issues:\n",
        "        iss_dict = {\"title\": iss.title,\n",
        "                    \"body\": iss.body,\n",
        "                    \"state\": iss.state,\n",
        "                    \"comments\": [_.body for _ in iss.get_comments()]}\n",
        "        rtn[iss.number] = iss_dict\n",
        "\n",
        "    return rtn"
      ],
      "metadata": {
        "id": "PFCxJcJhK9Xy"
      },
      "execution_count": null,
      "outputs": []
    },
    {
      "cell_type": "code",
      "source": [
        "#input url\n",
        "#repo_url = 'https://github.com/freeCodeCamp/freeCodeCamp'\n",
        "repo_url = 'https://github.com/lse-my470/assignment-8-centipede'\n",
        "\n",
        "user_str, repo_str = repo_url.replace(\"https://github.com/\", \"\").split(\"/\")\n",
        "user = git_obj.get_user(user_str)\n",
        "repo = user.get_repo(repo_str)\n",
        "issues = repo.get_issues(state=\"all\")\n",
        "\n",
        "#used 2 API"
      ],
      "metadata": {
        "id": "n4x2NfVRnbdF"
      },
      "execution_count": null,
      "outputs": []
    },
    {
      "cell_type": "code",
      "source": [
        "#pd.DataFrame(repos)"
      ],
      "metadata": {
        "colab": {
          "base_uri": "https://localhost:8080/",
          "height": 269
        },
        "id": "JAoGfrAMmpTy",
        "outputId": "f36c26e9-0289-40fa-ef90-bfbb7a623af8"
      },
      "execution_count": null,
      "outputs": [
        {
          "output_type": "execute_result",
          "data": {
            "text/plain": [
              "                                                                  3  \\\n",
              "title                                  Question Importing Data (P1)   \n",
              "body              during which question /step should we remove t...   \n",
              "create_dt                                       2021-11-20 19:06:30   \n",
              "state                                                        closed   \n",
              "comments          [I agree that we shold remove the first 2 colu...   \n",
              "comment_user                         [91499393, 35208282, 35208282]   \n",
              "comment_reaction                                       [+1, +1, +1]   \n",
              "\n",
              "                                                                  2  \n",
              "title                                         Question Empty Vector  \n",
              "body              1. prof seems to always declare vectors with `...  \n",
              "create_dt                                       2021-11-20 19:04:27  \n",
              "state                                                        closed  \n",
              "comments          [I've tried both c(0) and c() in R.\\r\\nc(0) is...  \n",
              "comment_user                                             [91499393]  \n",
              "comment_reaction                                               [+1]  "
            ],
            "text/html": [
              "\n",
              "  <div id=\"df-ccc108b4-ad87-4cf7-874c-cbe448d0a35b\">\n",
              "    <div class=\"colab-df-container\">\n",
              "      <div>\n",
              "<style scoped>\n",
              "    .dataframe tbody tr th:only-of-type {\n",
              "        vertical-align: middle;\n",
              "    }\n",
              "\n",
              "    .dataframe tbody tr th {\n",
              "        vertical-align: top;\n",
              "    }\n",
              "\n",
              "    .dataframe thead th {\n",
              "        text-align: right;\n",
              "    }\n",
              "</style>\n",
              "<table border=\"1\" class=\"dataframe\">\n",
              "  <thead>\n",
              "    <tr style=\"text-align: right;\">\n",
              "      <th></th>\n",
              "      <th>3</th>\n",
              "      <th>2</th>\n",
              "    </tr>\n",
              "  </thead>\n",
              "  <tbody>\n",
              "    <tr>\n",
              "      <th>title</th>\n",
              "      <td>Question Importing Data (P1)</td>\n",
              "      <td>Question Empty Vector</td>\n",
              "    </tr>\n",
              "    <tr>\n",
              "      <th>body</th>\n",
              "      <td>during which question /step should we remove t...</td>\n",
              "      <td>1. prof seems to always declare vectors with `...</td>\n",
              "    </tr>\n",
              "    <tr>\n",
              "      <th>create_dt</th>\n",
              "      <td>2021-11-20 19:06:30</td>\n",
              "      <td>2021-11-20 19:04:27</td>\n",
              "    </tr>\n",
              "    <tr>\n",
              "      <th>state</th>\n",
              "      <td>closed</td>\n",
              "      <td>closed</td>\n",
              "    </tr>\n",
              "    <tr>\n",
              "      <th>comments</th>\n",
              "      <td>[I agree that we shold remove the first 2 colu...</td>\n",
              "      <td>[I've tried both c(0) and c() in R.\\r\\nc(0) is...</td>\n",
              "    </tr>\n",
              "    <tr>\n",
              "      <th>comment_user</th>\n",
              "      <td>[91499393, 35208282, 35208282]</td>\n",
              "      <td>[91499393]</td>\n",
              "    </tr>\n",
              "    <tr>\n",
              "      <th>comment_reaction</th>\n",
              "      <td>[+1, +1, +1]</td>\n",
              "      <td>[+1]</td>\n",
              "    </tr>\n",
              "  </tbody>\n",
              "</table>\n",
              "</div>\n",
              "      <button class=\"colab-df-convert\" onclick=\"convertToInteractive('df-ccc108b4-ad87-4cf7-874c-cbe448d0a35b')\"\n",
              "              title=\"Convert this dataframe to an interactive table.\"\n",
              "              style=\"display:none;\">\n",
              "        \n",
              "  <svg xmlns=\"http://www.w3.org/2000/svg\" height=\"24px\"viewBox=\"0 0 24 24\"\n",
              "       width=\"24px\">\n",
              "    <path d=\"M0 0h24v24H0V0z\" fill=\"none\"/>\n",
              "    <path d=\"M18.56 5.44l.94 2.06.94-2.06 2.06-.94-2.06-.94-.94-2.06-.94 2.06-2.06.94zm-11 1L8.5 8.5l.94-2.06 2.06-.94-2.06-.94L8.5 2.5l-.94 2.06-2.06.94zm10 10l.94 2.06.94-2.06 2.06-.94-2.06-.94-.94-2.06-.94 2.06-2.06.94z\"/><path d=\"M17.41 7.96l-1.37-1.37c-.4-.4-.92-.59-1.43-.59-.52 0-1.04.2-1.43.59L10.3 9.45l-7.72 7.72c-.78.78-.78 2.05 0 2.83L4 21.41c.39.39.9.59 1.41.59.51 0 1.02-.2 1.41-.59l7.78-7.78 2.81-2.81c.8-.78.8-2.07 0-2.86zM5.41 20L4 18.59l7.72-7.72 1.47 1.35L5.41 20z\"/>\n",
              "  </svg>\n",
              "      </button>\n",
              "      \n",
              "  <style>\n",
              "    .colab-df-container {\n",
              "      display:flex;\n",
              "      flex-wrap:wrap;\n",
              "      gap: 12px;\n",
              "    }\n",
              "\n",
              "    .colab-df-convert {\n",
              "      background-color: #E8F0FE;\n",
              "      border: none;\n",
              "      border-radius: 50%;\n",
              "      cursor: pointer;\n",
              "      display: none;\n",
              "      fill: #1967D2;\n",
              "      height: 32px;\n",
              "      padding: 0 0 0 0;\n",
              "      width: 32px;\n",
              "    }\n",
              "\n",
              "    .colab-df-convert:hover {\n",
              "      background-color: #E2EBFA;\n",
              "      box-shadow: 0px 1px 2px rgba(60, 64, 67, 0.3), 0px 1px 3px 1px rgba(60, 64, 67, 0.15);\n",
              "      fill: #174EA6;\n",
              "    }\n",
              "\n",
              "    [theme=dark] .colab-df-convert {\n",
              "      background-color: #3B4455;\n",
              "      fill: #D2E3FC;\n",
              "    }\n",
              "\n",
              "    [theme=dark] .colab-df-convert:hover {\n",
              "      background-color: #434B5C;\n",
              "      box-shadow: 0px 1px 3px 1px rgba(0, 0, 0, 0.15);\n",
              "      filter: drop-shadow(0px 1px 2px rgba(0, 0, 0, 0.3));\n",
              "      fill: #FFFFFF;\n",
              "    }\n",
              "  </style>\n",
              "\n",
              "      <script>\n",
              "        const buttonEl =\n",
              "          document.querySelector('#df-ccc108b4-ad87-4cf7-874c-cbe448d0a35b button.colab-df-convert');\n",
              "        buttonEl.style.display =\n",
              "          google.colab.kernel.accessAllowed ? 'block' : 'none';\n",
              "\n",
              "        async function convertToInteractive(key) {\n",
              "          const element = document.querySelector('#df-ccc108b4-ad87-4cf7-874c-cbe448d0a35b');\n",
              "          const dataTable =\n",
              "            await google.colab.kernel.invokeFunction('convertToInteractive',\n",
              "                                                     [key], {});\n",
              "          if (!dataTable) return;\n",
              "\n",
              "          const docLinkHtml = 'Like what you see? Visit the ' +\n",
              "            '<a target=\"_blank\" href=https://colab.research.google.com/notebooks/data_table.ipynb>data table notebook</a>'\n",
              "            + ' to learn more about interactive tables.';\n",
              "          element.innerHTML = '';\n",
              "          dataTable['output_type'] = 'display_data';\n",
              "          await google.colab.output.renderOutput(dataTable, element);\n",
              "          const docLink = document.createElement('div');\n",
              "          docLink.innerHTML = docLinkHtml;\n",
              "          element.appendChild(docLink);\n",
              "        }\n",
              "      </script>\n",
              "    </div>\n",
              "  </div>\n",
              "  "
            ]
          },
          "metadata": {},
          "execution_count": 86
        }
      ]
    },
    {
      "cell_type": "code",
      "source": [
        "#input url\n",
        "repo_url = 'https://github.com/freeCodeCamp/freeCodeCamp'\n",
        "#repo_url = 'https://github.com/lse-my470/assignment-8-centipede'\n",
        "#repo_url = 'https://github.com/borisdayma/dalle-mini'\n",
        "\n",
        "\n",
        "user_str, repo_str = repo_url.replace(\"https://github.com/\", \"\").split(\"/\")\n",
        "user = git_obj.get_user(user_str)\n",
        "repo = user.get_repo(repo_str)\n",
        "issues = repo.get_issues(state=\"all\")\n",
        "\n",
        "\n",
        "#####################################\n",
        "###Step 1 Load All Issues\n",
        "print('Step 1: Load all Issues')\n",
        "\n",
        "#progress bar\n",
        "#ref. https://stackoverflow.com/questions/38861829/how-do-i-implement-a-progress-bar\n",
        "max_count = round(issues.totalCount / 30) #max loops (ie. pages) needed (starts at 0)\n",
        "status_bar = IntProgress(min = 0, max = max_count) # create status-bar\n",
        "display(status_bar)\n",
        "\n",
        "#intialize: empty list\n",
        "issue_content_list = []\n",
        "total_page = 'out of ' + str(max_count) + ' pages' #for current page dynamic update\n",
        "core_rate_limit = git_obj.get_rate_limit().core\n",
        "\n",
        "#issues-obj contains all the issues + PR of a repo\n",
        "#ea. page (more issues = more pages) contains a list of issues, only keep issues that are real-git-issues (not PRs)\n",
        "for page_num in range(round(issues.totalCount / 30) + 1):\n",
        "  #dynamically print current page_num & API limit\n",
        "  print('page: ', f'\\r{page_num, total_page, core_rate_limit}', end = '', flush = True)\n",
        "\n",
        "  #API throttle\n",
        "  try:\n",
        "\n",
        "    #normal operations\n",
        "    for issue_content in issues.get_page(page_num):\n",
        "      if not issue_content.pull_request:\n",
        "        issue_content_list.append(issue_content)\n",
        "\n",
        "    #for status bar (before next page_num):\n",
        "    status_bar.value += 1 #update status-bar\n",
        "    #for calculating Github API limit:\n",
        "    core_rate_limit = git_obj.get_rate_limit().core\n",
        "\n",
        "    if core_rate_limit.remaining <= 50:\n",
        "      reset_timestamp = calendar.timegm(core_rate_limit.reset.timetuple()) #returns the corresponding Unix timestamp value\n",
        "      sleep_time = reset_timestamp - calendar.timegm(time.gmtime()) + 5 #add 5 sec (1-hr reset time calc. at start of execution)\n",
        "      print('\\nsleeping for:', round(sleep_time/60), 'mins;', ' at page: ', page_num, '###API hourly refresh limit: ', core_rate_limit)\n",
        "      time.sleep(sleep_time)\n",
        "\n",
        "  #after sleeping, continue back into above loop  \n",
        "  except:\n",
        "    continue\n",
        "\n",
        "#save list to Disk (back-up)\n",
        "with open('issue_content_list.pkl', 'wb') as file:\n",
        "  pickle.dump(issue_content_list, file)\n",
        "\n",
        "print('\\n***issue_content_list: loading Repo Issues Complete!***')\n"
      ],
      "metadata": {
        "colab": {
          "base_uri": "https://localhost:8080/",
          "height": 101,
          "referenced_widgets": [
            "4bb505eb30464694a16c2668eeb7ae24",
            "517b3f61c5904a63904c4fd00768abd8",
            "05e8d3169ce14caaa0875bd9c96a7f46"
          ]
        },
        "id": "PaoFDa9chwG9",
        "outputId": "508ba35c-f7aa-4aec-f462-6a033aa239dc"
      },
      "execution_count": null,
      "outputs": [
        {
          "output_type": "stream",
          "name": "stdout",
          "text": [
            "Step 1: Load all Issues\n"
          ]
        },
        {
          "output_type": "display_data",
          "data": {
            "text/plain": [
              "IntProgress(value=0, max=0)"
            ],
            "application/vnd.jupyter.widget-view+json": {
              "version_major": 2,
              "version_minor": 0,
              "model_id": "4bb505eb30464694a16c2668eeb7ae24"
            }
          },
          "metadata": {}
        },
        {
          "output_type": "stream",
          "name": "stdout",
          "text": [
            "page:  \r(0, 'out of 0 pages', Rate(reset=2022-06-14 20:31:56, remaining=4891, limit=5000))\n",
            "***issue_content_list: loading Repo Issues Complete!***\n"
          ]
        }
      ]
    },
    {
      "cell_type": "code",
      "source": [
        "#load saved list for Step 2.\n",
        "with open('issue_content_list.pkl', 'rb') as file:\n",
        "    issue_content_list = pickle.load(file)\n",
        "\n",
        "#for testing\n",
        "#issue_content_list = issue_content_list[0:10]"
      ],
      "metadata": {
        "id": "ipwe905OYonu"
      },
      "execution_count": null,
      "outputs": []
    },
    {
      "cell_type": "code",
      "source": [
        "#testing"
      ],
      "metadata": {
        "colab": {
          "base_uri": "https://localhost:8080/"
        },
        "id": "p-j3XpG3OuyS",
        "outputId": "0846c298-4025-4155-f930-f7cb7428ee0e"
      },
      "execution_count": null,
      "outputs": [
        {
          "output_type": "execute_result",
          "data": {
            "text/plain": [
              "[]"
            ]
          },
          "metadata": {},
          "execution_count": 83
        }
      ]
    },
    {
      "cell_type": "code",
      "source": [
        "#Dynamically Saving\n",
        "\n",
        "#####################################\n",
        "###Step 2 Load Issue Contents to DICT\n",
        "print('Step 2: Load Issues to DICT')\n",
        "\n",
        "#progress bar\n",
        "max_count = len(issue_content_list) #max loops (ie. isuues) needed\n",
        "status_bar_ii = IntProgress(min = 1, max = max_count) # create status-bar (starts at 1)\n",
        "display(status_bar_ii)\n",
        "\n",
        "#initialize: empty dict\n",
        "repo_dict = {}\n",
        "total_count = 'out of ' + str(max_count) + ' issues' #for current issue dynamic update\n",
        "core_rate_limit = git_obj.get_rate_limit().core\n",
        "\n",
        "#initialize counter of ea. Batche-file & Issue-tracker\n",
        "#only load the issues not processed in previous batch\n",
        "try:\n",
        "  #if start already exist (ie. batch-processing commenced or single-completion)\n",
        "  with open('issue_tracker.pkl', 'rb') as file:\n",
        "    issue_start_num = pickle.load(file) \n",
        "    issue_content_list = issue_content_list[issue_start_num: ]\n",
        "  if issue_start_num == 0: #re-starting\n",
        "    batch_count = -1\n",
        "except FileNotFoundError:\n",
        "  start = status_bar_ii.value - 1 #selecting the issue_num where the last batch stoped (starts @ 0)\n",
        "  batch_count = -1 #initialize counter of ea. batche-file\n",
        "  issue_content_list = issue_content_list[start: ]\n",
        "\n",
        "#Start of actual issue processing\n",
        "for issue_content in issue_content_list:\n",
        "  #dynamically print current issue & API limit\n",
        "  print('process issue: ', f'\\r{status_bar_ii.value, total_count, core_rate_limit}', end = '', flush = True)\n",
        "\n",
        "  #API Throttle\n",
        "  try:\n",
        "    issue_dict = {'title': issue_content.title, #title of issue\n",
        "                  'body': issue_content.body, #original comment\n",
        "                  'created_at': issue_content.created_at, #dtm of issue\n",
        "                  'state': issue_content.state,\n",
        "                  'comments': [comment.body for comment in issue_content.get_comments()], #follow-up comments\n",
        "                  'comment_user': [comment.user.id for comment in issue_content.get_comments()], #follow-up commentor user-ID\n",
        "                  #reactions for ea. comment in ea. issue\n",
        "                  'comment_react': [ \n",
        "                                    [reaction.content for reaction in comment.get_reactions()] #nested loop\n",
        "                                    for comment in issue_content.get_comments()]\n",
        "                  }\n",
        "                  \n",
        "    #add to dict: ea. Issue (many comments) belongs to one key in dict\n",
        "    repo_dict[issue_content.number] = issue_dict\n",
        "\n",
        "    #for status bar:\n",
        "    status_bar_ii.value += 1 #update status-bar\n",
        "    start += 1 #update issue processed\n",
        "\n",
        "    #for calculating Github API limit:\n",
        "    core_rate_limit = git_obj.get_rate_limit().core\n",
        "    \n",
        "    if core_rate_limit.remaining <= 50:\n",
        "\n",
        "      #calc. sleep timer \n",
        "      reset_timestamp = calendar.timegm(core_rate_limit.reset.timetuple()) #returns the corresponding Unix timestamp value\n",
        "      sleep_time = reset_timestamp - calendar.timegm(time.gmtime()) + 5 #add 5 sec (1-hr reset time calc. at start of execution)\n",
        "     \n",
        "      #save batch of processed issues into batch-file\n",
        "      batch_count += 1 #for each batch-dict\n",
        "      file_batch = 'repo_dict_batch_' + str(batch_count) + '.pkl'\n",
        "\n",
        "      with open(file_batch, 'wb') as file:\n",
        "        pickle.dump(repo_dict, file)\n",
        "\n",
        "      #record batch saving progress\n",
        "      with open('issue_tracker.pkl', 'wb') as file:\n",
        "        pickle.dump(start, file)\n",
        "  \n",
        "      repo_dict = {} #refresh temp-dict after batch saved\n",
        "\n",
        "      #sleep\n",
        "      print('\\nbatch saved & sleeping for:', round(sleep_time/60), 'mins;', ' at issue:', status_bar_ii.value, '###API hourly refresh limit: ', core_rate_limit)\n",
        "      time.sleep(sleep_time) \n",
        "\n",
        "  #after sleeping, continue back into above loop  \n",
        "  except:\n",
        "    continue\n",
        "\n",
        "#IF no sleeping required: \n",
        "if batch_count == -1:\n",
        "  #saving DICT to file in one go\n",
        "  with open('repo_dict.pkl', 'wb') as file:\n",
        "    pickle.dump(repo_dict, file)\n",
        "  #updating issues processed (tracker)\n",
        "  with open('issue_tracker.pkl', 'wb') as file:\n",
        "        pickle.dump(start, file)\n",
        "\n",
        "#All Issues finished processing\n",
        "batch_count = -1 #reset (start from 0)\n",
        "start = 0 #reset\n",
        "print('\\n***repo_dict: processing Issues into DICT complete!***', end = '\\n')\n",
        "\n",
        "#remember to reset the issue tracker!"
      ],
      "metadata": {
        "colab": {
          "base_uri": "https://localhost:8080/",
          "height": 344,
          "referenced_widgets": [
            "918de5470f68438dbd2698d88082a08a",
            "dd3a11e4579f45548a3add4f48e6dc97",
            "dc96c7bf9dcc479fabd26a0b310cba5b"
          ]
        },
        "id": "OqzHrP5cKpjt",
        "outputId": "50bac7a1-a285-4ad3-8167-c1074abf13b3"
      },
      "execution_count": null,
      "outputs": [
        {
          "output_type": "stream",
          "name": "stdout",
          "text": [
            "Step 2: Load Issues to DICT\n"
          ]
        },
        {
          "output_type": "display_data",
          "data": {
            "text/plain": [
              "IntProgress(value=1, max=16065, min=1)"
            ],
            "application/vnd.jupyter.widget-view+json": {
              "version_major": 2,
              "version_minor": 0,
              "model_id": "918de5470f68438dbd2698d88082a08a"
            }
          },
          "metadata": {}
        },
        {
          "output_type": "stream",
          "name": "stdout",
          "text": [
            "(914, 'out of 16065 issues', Rate(reset=2022-06-15 22:57:03, remaining=55, limit=5000))\n",
            "batch saved & sleeping for: 52 mins;  at issue: 915 ###API hourly refresh limit:  Rate(reset=2022-06-15 22:57:03, remaining=45, limit=5000)\n",
            "(915, 'out of 16065 issues', Rate(reset=2022-06-15 22:57:03, remaining=45, limit=5000))\n",
            "batch saved & sleeping for: 52 mins;  at issue: 916 ###API hourly refresh limit:  Rate(reset=2022-06-15 22:57:03, remaining=32, limit=5000)\n",
            "(916, 'out of 16065 issues', Rate(reset=2022-06-15 22:57:03, remaining=32, limit=5000))\n",
            "batch saved & sleeping for: 52 mins;  at issue: 917 ###API hourly refresh limit:  Rate(reset=2022-06-15 22:57:03, remaining=22, limit=5000)\n",
            "(917, 'out of 16065 issues', Rate(reset=2022-06-15 22:57:03, remaining=22, limit=5000))\n",
            "batch saved & sleeping for: 51 mins;  at issue: 918 ###API hourly refresh limit:  Rate(reset=2022-06-15 22:57:03, remaining=18, limit=5000)\n",
            "(918, 'out of 16065 issues', Rate(reset=2022-06-15 22:57:03, remaining=18, limit=5000))\n",
            "batch saved & sleeping for: 51 mins;  at issue: 919 ###API hourly refresh limit:  Rate(reset=2022-06-15 22:57:03, remaining=14, limit=5000)\n",
            "(919, 'out of 16065 issues', Rate(reset=2022-06-15 22:57:03, remaining=14, limit=5000))\n",
            "batch saved & sleeping for: 51 mins;  at issue: 920 ###API hourly refresh limit:  Rate(reset=2022-06-15 22:57:03, remaining=10, limit=5000)\n",
            "(920, 'out of 16065 issues', Rate(reset=2022-06-15 22:57:03, remaining=10, limit=5000))\n",
            "batch saved & sleeping for: 51 mins;  at issue: 921 ###API hourly refresh limit:  Rate(reset=2022-06-15 22:57:03, remaining=4, limit=5000)\n",
            "(921, 'out of 16065 issues', Rate(reset=2022-06-15 22:57:03, remaining=4, limit=5000))\n",
            "***repo_dict: processing Issues into DICT complete!***\n"
          ]
        }
      ]
    },
    {
      "cell_type": "code",
      "source": [
        "#reset issue tracker\n",
        "start = 0\n",
        "with open('issue_tracker.pkl', 'wb') as file:\n",
        "  pickle.dump(start, file)"
      ],
      "metadata": {
        "id": "icNQ2V8kJw_l"
      },
      "execution_count": null,
      "outputs": []
    },
    {
      "cell_type": "code",
      "source": [
        "with open('issue_tracker.pkl', 'rb') as file:\n",
        "  sample = pickle.load(file)\n",
        "\n",
        "sample"
      ],
      "metadata": {
        "colab": {
          "base_uri": "https://localhost:8080/",
          "height": 218
        },
        "id": "Db3Gra9BNRd8",
        "outputId": "eac39999-b441-4de0-c4c9-1feea0bbdea7"
      },
      "execution_count": null,
      "outputs": [
        {
          "output_type": "error",
          "ename": "FileNotFoundError",
          "evalue": "ignored",
          "traceback": [
            "\u001b[0;31m---------------------------------------------------------------------------\u001b[0m",
            "\u001b[0;31mFileNotFoundError\u001b[0m                         Traceback (most recent call last)",
            "\u001b[0;32m<ipython-input-1-1ea71ed73324>\u001b[0m in \u001b[0;36m<module>\u001b[0;34m()\u001b[0m\n\u001b[0;32m----> 1\u001b[0;31m \u001b[0;32mwith\u001b[0m \u001b[0mopen\u001b[0m\u001b[0;34m(\u001b[0m\u001b[0;34m'issue_tracker.pkl'\u001b[0m\u001b[0;34m,\u001b[0m \u001b[0;34m'rb'\u001b[0m\u001b[0;34m)\u001b[0m \u001b[0;32mas\u001b[0m \u001b[0mfile\u001b[0m\u001b[0;34m:\u001b[0m\u001b[0;34m\u001b[0m\u001b[0;34m\u001b[0m\u001b[0m\n\u001b[0m\u001b[1;32m      2\u001b[0m   \u001b[0msample\u001b[0m \u001b[0;34m=\u001b[0m \u001b[0mpickle\u001b[0m\u001b[0;34m.\u001b[0m\u001b[0mload\u001b[0m\u001b[0;34m(\u001b[0m\u001b[0mfile\u001b[0m\u001b[0;34m)\u001b[0m\u001b[0;34m\u001b[0m\u001b[0;34m\u001b[0m\u001b[0m\n\u001b[1;32m      3\u001b[0m \u001b[0;34m\u001b[0m\u001b[0m\n\u001b[1;32m      4\u001b[0m \u001b[0msample\u001b[0m\u001b[0;34m\u001b[0m\u001b[0;34m\u001b[0m\u001b[0m\n",
            "\u001b[0;31mFileNotFoundError\u001b[0m: [Errno 2] No such file or directory: 'issue_tracker.pkl'"
          ]
        }
      ]
    },
    {
      "cell_type": "code",
      "source": [
        "with open('repo_dict_batch_1.pkl', 'rb') as file:\n",
        "  load_file = pickle.load(file)\n",
        "\n",
        "load_file"
      ],
      "metadata": {
        "colab": {
          "base_uri": "https://localhost:8080/"
        },
        "id": "iG3t2O3hNRgW",
        "outputId": "201b6620-82be-4b6a-a794-1644160bbfc9"
      },
      "execution_count": null,
      "outputs": [
        {
          "output_type": "execute_result",
          "data": {
            "text/plain": [
              "{46481: {'body': '### Describe the Issue\\n\\nUnclear Instructions in step 41 of the Learn CSS Variables by Building a City Skyline of the (New) Responsive Web Design course.\\r\\n\\r\\nYou want to add the same gradient to the next two sections. Instead of doing that, **create a new class called bb1-window,** and move the height and background properties and values from .bb1a **to the new class**.\\r\\n\\r\\nI believe telling the user to create a new class **selector** instead would make the instructions more clear.\\r\\n\\r\\n\\n\\n### Affected Page\\n\\nhttps://www.freecodecamp.org/learn/2022/responsive-web-design/learn-css-variables-by-building-a-city-skyline/step-41\\n\\n### Your code\\n\\n```\\r\\n.bb1-window {\\r\\n    height: 10%;\\r\\n    background: linear-gradient(\\r\\n      var(--building-color1),\\r\\n      var(--window-color1)\\r\\n      );\\r\\n}\\r\\n```\\r\\n\\n\\n### Expected behavior\\n\\nInstructions should be given as:\\r\\n\\r\\nYou want to add the same gradient to the next two sections. Instead of doing that, create a new class **selector** called bb1-window, and move the height and background properties and values from .bb1a to the new class **selector.**\\r\\n\\n\\n### Screenshots\\n\\n_No response_\\n\\n### System\\n\\n-Device: PC\\r\\n-OS: Linux Mint 20\\r\\n-Browser: Firefox\\r\\n-Version: 101.0.1 (64-bit)\\r\\n\\n\\n### Additional context\\n\\n_No response_',\n",
              "  'comment_react': [],\n",
              "  'comment_user': [],\n",
              "  'comments': [],\n",
              "  'created_at': datetime.datetime(2022, 6, 13, 10, 16, 5),\n",
              "  'state': 'closed',\n",
              "  'title': 'Unclear instructions in CSS variables challenge'}}"
            ]
          },
          "metadata": {},
          "execution_count": 60
        }
      ]
    },
    {
      "cell_type": "markdown",
      "source": [
        "# New Section"
      ],
      "metadata": {
        "id": "kmkJzY8BMXkE"
      }
    },
    {
      "cell_type": "code",
      "source": [
        "file_batch = 'issue_dict_batch_' + str(batch_count) + '.pkl'\n",
        "file_batch"
      ],
      "metadata": {
        "colab": {
          "base_uri": "https://localhost:8080/",
          "height": 35
        },
        "id": "ZSazZMSDMAjA",
        "outputId": "05ee78bb-63b8-4e75-f861-872d69c671fc"
      },
      "execution_count": null,
      "outputs": [
        {
          "output_type": "execute_result",
          "data": {
            "text/plain": [
              "'issue_dict_batch_10.pkl'"
            ],
            "application/vnd.google.colaboratory.intrinsic+json": {
              "type": "string"
            }
          },
          "metadata": {},
          "execution_count": 47
        }
      ]
    },
    {
      "cell_type": "code",
      "source": [
        "with open('repo_dict.pkl', 'rb') as file:\n",
        "  load_file = pickle.load(file)\n",
        "\n",
        "load_file"
      ],
      "metadata": {
        "colab": {
          "base_uri": "https://localhost:8080/",
          "height": 218
        },
        "id": "BVaQxWLAMNCF",
        "outputId": "b75deb33-5c88-407e-a230-0262f2f17e78"
      },
      "execution_count": null,
      "outputs": [
        {
          "output_type": "error",
          "ename": "EOFError",
          "evalue": "ignored",
          "traceback": [
            "\u001b[0;31m---------------------------------------------------------------------------\u001b[0m",
            "\u001b[0;31mEOFError\u001b[0m                                  Traceback (most recent call last)",
            "\u001b[0;32m<ipython-input-30-d26e94fd0098>\u001b[0m in \u001b[0;36m<module>\u001b[0;34m()\u001b[0m\n\u001b[1;32m      1\u001b[0m \u001b[0;32mwith\u001b[0m \u001b[0mopen\u001b[0m\u001b[0;34m(\u001b[0m\u001b[0;34m'repo_dict.pkl'\u001b[0m\u001b[0;34m,\u001b[0m \u001b[0;34m'rb'\u001b[0m\u001b[0;34m)\u001b[0m \u001b[0;32mas\u001b[0m \u001b[0mfile\u001b[0m\u001b[0;34m:\u001b[0m\u001b[0;34m\u001b[0m\u001b[0;34m\u001b[0m\u001b[0m\n\u001b[0;32m----> 2\u001b[0;31m   \u001b[0mload_file\u001b[0m \u001b[0;34m=\u001b[0m \u001b[0mpickle\u001b[0m\u001b[0;34m.\u001b[0m\u001b[0mload\u001b[0m\u001b[0;34m(\u001b[0m\u001b[0mfile\u001b[0m\u001b[0;34m)\u001b[0m\u001b[0;34m\u001b[0m\u001b[0;34m\u001b[0m\u001b[0m\n\u001b[0m\u001b[1;32m      3\u001b[0m \u001b[0;34m\u001b[0m\u001b[0m\n\u001b[1;32m      4\u001b[0m \u001b[0mload_file\u001b[0m\u001b[0;34m\u001b[0m\u001b[0;34m\u001b[0m\u001b[0m\n",
            "\u001b[0;31mEOFError\u001b[0m: Ran out of input"
          ]
        }
      ]
    },
    {
      "cell_type": "code",
      "source": [
        "%time\n",
        "#dir(comment) #all attributes for the obj.\n",
        "\n",
        "issue_content.get_comments()"
      ],
      "metadata": {
        "colab": {
          "base_uri": "https://localhost:8080/"
        },
        "id": "2oQ_6Gz_q6Ew",
        "outputId": "481998df-34b9-4f3a-a1bf-6d06c3785590"
      },
      "execution_count": null,
      "outputs": [
        {
          "output_type": "execute_result",
          "data": {
            "text/plain": [
              "<github.PaginatedList.PaginatedList at 0x7ff2c4b87a50>"
            ]
          },
          "metadata": {},
          "execution_count": 300
        }
      ]
    },
    {
      "cell_type": "code",
      "source": [
        "        \n",
        "with open('repo_dict.pkl', 'rb') as f:\n",
        "    loaded_dict = pickle.load(f)\n",
        "\n",
        "loaded_dict"
      ],
      "metadata": {
        "id": "0VSi4H7Fd-R1",
        "colab": {
          "base_uri": "https://localhost:8080/"
        },
        "outputId": "8a0e6976-245e-4674-8341-2bb58d4086b9"
      },
      "execution_count": null,
      "outputs": [
        {
          "output_type": "execute_result",
          "data": {
            "text/plain": [
              "{}"
            ]
          },
          "metadata": {},
          "execution_count": 13
        }
      ]
    },
    {
      "cell_type": "code",
      "source": [
        ""
      ],
      "metadata": {
        "colab": {
          "base_uri": "https://localhost:8080/"
        },
        "id": "atso4ACM0NF0",
        "outputId": "d04093eb-eacc-4729-8e76-b3f7c4227ee8"
      },
      "execution_count": null,
      "outputs": [
        {
          "output_type": "execute_result",
          "data": {
            "text/plain": [
              "['+1']"
            ]
          },
          "metadata": {},
          "execution_count": 119
        }
      ]
    },
    {
      "cell_type": "markdown",
      "source": [
        "## Star History"
      ],
      "metadata": {
        "id": "srJhy-5gupTG"
      }
    },
    {
      "cell_type": "code",
      "source": [
        "#using Github Repo Search API\n",
        "#ref. https://towardsdatascience.com/top-30-github-python-projects-at-the-beginning-of-2022-86b1e3dad1a\n",
        "\n",
        "url = 'https://api.github.com/search/repositories?q=language:python&sort=stars&order=desc'\n",
        "\n",
        "#use request module to get url's data\n",
        "results = requests.get(url)\n",
        "#conver to python dictionary\n",
        "results_dict = results.json()\n",
        "\n",
        "#top 30 repos (defualt page size =30)\n",
        "repos = results_dict['items']\n",
        "len(repos)\n",
        "\n",
        "repo_df = pd.DataFrame(repos)\n",
        "\n",
        "\n",
        "repo_df_clean = repo_df[['name', 'full_name', 'html_url', 'created_at', 'stargazers_count', 'watchers', 'forks', 'open_issues']]\n",
        "repo_df_clean['created_at'] = pd.to_datetime(repo_df_clean['created_at'])\n",
        "repo_df_clean['created_year'] = repo_df_clean['created_at'].dt.year\n",
        "repo_df_clean['years_on_github'] = 2022 - repo_df_clean['created_at'].dt.year\n",
        "\n",
        "repo_df_clean.head()"
      ],
      "metadata": {
        "colab": {
          "base_uri": "https://localhost:8080/",
          "height": 597
        },
        "id": "uv7cxj5NXx-W",
        "outputId": "3cf3c67c-6e9a-412a-fe3a-0f52c5b88fb5"
      },
      "execution_count": null,
      "outputs": [
        {
          "output_type": "stream",
          "name": "stderr",
          "text": [
            "/usr/local/lib/python3.7/dist-packages/ipykernel_launcher.py:19: SettingWithCopyWarning: \n",
            "A value is trying to be set on a copy of a slice from a DataFrame.\n",
            "Try using .loc[row_indexer,col_indexer] = value instead\n",
            "\n",
            "See the caveats in the documentation: https://pandas.pydata.org/pandas-docs/stable/user_guide/indexing.html#returning-a-view-versus-a-copy\n",
            "/usr/local/lib/python3.7/dist-packages/ipykernel_launcher.py:20: SettingWithCopyWarning: \n",
            "A value is trying to be set on a copy of a slice from a DataFrame.\n",
            "Try using .loc[row_indexer,col_indexer] = value instead\n",
            "\n",
            "See the caveats in the documentation: https://pandas.pydata.org/pandas-docs/stable/user_guide/indexing.html#returning-a-view-versus-a-copy\n",
            "/usr/local/lib/python3.7/dist-packages/ipykernel_launcher.py:21: SettingWithCopyWarning: \n",
            "A value is trying to be set on a copy of a slice from a DataFrame.\n",
            "Try using .loc[row_indexer,col_indexer] = value instead\n",
            "\n",
            "See the caveats in the documentation: https://pandas.pydata.org/pandas-docs/stable/user_guide/indexing.html#returning-a-view-versus-a-copy\n"
          ]
        },
        {
          "output_type": "execute_result",
          "data": {
            "text/plain": [
              "                   name                         full_name  \\\n",
              "0           public-apis           public-apis/public-apis   \n",
              "1  system-design-primer  donnemartin/system-design-primer   \n",
              "2        awesome-python              vinta/awesome-python   \n",
              "3       Python-100-Days         jackfrued/Python-100-Days   \n",
              "4            youtube-dl               ytdl-org/youtube-dl   \n",
              "\n",
              "                                            html_url  \\\n",
              "0         https://github.com/public-apis/public-apis   \n",
              "1  https://github.com/donnemartin/system-design-p...   \n",
              "2            https://github.com/vinta/awesome-python   \n",
              "3       https://github.com/jackfrued/Python-100-Days   \n",
              "4             https://github.com/ytdl-org/youtube-dl   \n",
              "\n",
              "                 created_at  stargazers_count  watchers  forks  open_issues  \\\n",
              "0 2016-03-20 23:49:42+00:00            196118    196118  22598            2   \n",
              "1 2017-02-26 16:15:28+00:00            183676    183676  33436          313   \n",
              "2 2014-06-27 21:00:06+00:00            130014    130014  21281          252   \n",
              "3 2018-03-01 16:05:52+00:00            119772    119772  45776          643   \n",
              "4 2010-10-31 14:35:07+00:00            110725    110725   7842         4727   \n",
              "\n",
              "   created_year  years_on_github  \n",
              "0          2016                6  \n",
              "1          2017                5  \n",
              "2          2014                8  \n",
              "3          2018                4  \n",
              "4          2010               12  "
            ],
            "text/html": [
              "\n",
              "  <div id=\"df-0b503ca3-ea30-43d5-9b1d-5cb596dcc20b\">\n",
              "    <div class=\"colab-df-container\">\n",
              "      <div>\n",
              "<style scoped>\n",
              "    .dataframe tbody tr th:only-of-type {\n",
              "        vertical-align: middle;\n",
              "    }\n",
              "\n",
              "    .dataframe tbody tr th {\n",
              "        vertical-align: top;\n",
              "    }\n",
              "\n",
              "    .dataframe thead th {\n",
              "        text-align: right;\n",
              "    }\n",
              "</style>\n",
              "<table border=\"1\" class=\"dataframe\">\n",
              "  <thead>\n",
              "    <tr style=\"text-align: right;\">\n",
              "      <th></th>\n",
              "      <th>name</th>\n",
              "      <th>full_name</th>\n",
              "      <th>html_url</th>\n",
              "      <th>created_at</th>\n",
              "      <th>stargazers_count</th>\n",
              "      <th>watchers</th>\n",
              "      <th>forks</th>\n",
              "      <th>open_issues</th>\n",
              "      <th>created_year</th>\n",
              "      <th>years_on_github</th>\n",
              "    </tr>\n",
              "  </thead>\n",
              "  <tbody>\n",
              "    <tr>\n",
              "      <th>0</th>\n",
              "      <td>public-apis</td>\n",
              "      <td>public-apis/public-apis</td>\n",
              "      <td>https://github.com/public-apis/public-apis</td>\n",
              "      <td>2016-03-20 23:49:42+00:00</td>\n",
              "      <td>196118</td>\n",
              "      <td>196118</td>\n",
              "      <td>22598</td>\n",
              "      <td>2</td>\n",
              "      <td>2016</td>\n",
              "      <td>6</td>\n",
              "    </tr>\n",
              "    <tr>\n",
              "      <th>1</th>\n",
              "      <td>system-design-primer</td>\n",
              "      <td>donnemartin/system-design-primer</td>\n",
              "      <td>https://github.com/donnemartin/system-design-p...</td>\n",
              "      <td>2017-02-26 16:15:28+00:00</td>\n",
              "      <td>183676</td>\n",
              "      <td>183676</td>\n",
              "      <td>33436</td>\n",
              "      <td>313</td>\n",
              "      <td>2017</td>\n",
              "      <td>5</td>\n",
              "    </tr>\n",
              "    <tr>\n",
              "      <th>2</th>\n",
              "      <td>awesome-python</td>\n",
              "      <td>vinta/awesome-python</td>\n",
              "      <td>https://github.com/vinta/awesome-python</td>\n",
              "      <td>2014-06-27 21:00:06+00:00</td>\n",
              "      <td>130014</td>\n",
              "      <td>130014</td>\n",
              "      <td>21281</td>\n",
              "      <td>252</td>\n",
              "      <td>2014</td>\n",
              "      <td>8</td>\n",
              "    </tr>\n",
              "    <tr>\n",
              "      <th>3</th>\n",
              "      <td>Python-100-Days</td>\n",
              "      <td>jackfrued/Python-100-Days</td>\n",
              "      <td>https://github.com/jackfrued/Python-100-Days</td>\n",
              "      <td>2018-03-01 16:05:52+00:00</td>\n",
              "      <td>119772</td>\n",
              "      <td>119772</td>\n",
              "      <td>45776</td>\n",
              "      <td>643</td>\n",
              "      <td>2018</td>\n",
              "      <td>4</td>\n",
              "    </tr>\n",
              "    <tr>\n",
              "      <th>4</th>\n",
              "      <td>youtube-dl</td>\n",
              "      <td>ytdl-org/youtube-dl</td>\n",
              "      <td>https://github.com/ytdl-org/youtube-dl</td>\n",
              "      <td>2010-10-31 14:35:07+00:00</td>\n",
              "      <td>110725</td>\n",
              "      <td>110725</td>\n",
              "      <td>7842</td>\n",
              "      <td>4727</td>\n",
              "      <td>2010</td>\n",
              "      <td>12</td>\n",
              "    </tr>\n",
              "  </tbody>\n",
              "</table>\n",
              "</div>\n",
              "      <button class=\"colab-df-convert\" onclick=\"convertToInteractive('df-0b503ca3-ea30-43d5-9b1d-5cb596dcc20b')\"\n",
              "              title=\"Convert this dataframe to an interactive table.\"\n",
              "              style=\"display:none;\">\n",
              "        \n",
              "  <svg xmlns=\"http://www.w3.org/2000/svg\" height=\"24px\"viewBox=\"0 0 24 24\"\n",
              "       width=\"24px\">\n",
              "    <path d=\"M0 0h24v24H0V0z\" fill=\"none\"/>\n",
              "    <path d=\"M18.56 5.44l.94 2.06.94-2.06 2.06-.94-2.06-.94-.94-2.06-.94 2.06-2.06.94zm-11 1L8.5 8.5l.94-2.06 2.06-.94-2.06-.94L8.5 2.5l-.94 2.06-2.06.94zm10 10l.94 2.06.94-2.06 2.06-.94-2.06-.94-.94-2.06-.94 2.06-2.06.94z\"/><path d=\"M17.41 7.96l-1.37-1.37c-.4-.4-.92-.59-1.43-.59-.52 0-1.04.2-1.43.59L10.3 9.45l-7.72 7.72c-.78.78-.78 2.05 0 2.83L4 21.41c.39.39.9.59 1.41.59.51 0 1.02-.2 1.41-.59l7.78-7.78 2.81-2.81c.8-.78.8-2.07 0-2.86zM5.41 20L4 18.59l7.72-7.72 1.47 1.35L5.41 20z\"/>\n",
              "  </svg>\n",
              "      </button>\n",
              "      \n",
              "  <style>\n",
              "    .colab-df-container {\n",
              "      display:flex;\n",
              "      flex-wrap:wrap;\n",
              "      gap: 12px;\n",
              "    }\n",
              "\n",
              "    .colab-df-convert {\n",
              "      background-color: #E8F0FE;\n",
              "      border: none;\n",
              "      border-radius: 50%;\n",
              "      cursor: pointer;\n",
              "      display: none;\n",
              "      fill: #1967D2;\n",
              "      height: 32px;\n",
              "      padding: 0 0 0 0;\n",
              "      width: 32px;\n",
              "    }\n",
              "\n",
              "    .colab-df-convert:hover {\n",
              "      background-color: #E2EBFA;\n",
              "      box-shadow: 0px 1px 2px rgba(60, 64, 67, 0.3), 0px 1px 3px 1px rgba(60, 64, 67, 0.15);\n",
              "      fill: #174EA6;\n",
              "    }\n",
              "\n",
              "    [theme=dark] .colab-df-convert {\n",
              "      background-color: #3B4455;\n",
              "      fill: #D2E3FC;\n",
              "    }\n",
              "\n",
              "    [theme=dark] .colab-df-convert:hover {\n",
              "      background-color: #434B5C;\n",
              "      box-shadow: 0px 1px 3px 1px rgba(0, 0, 0, 0.15);\n",
              "      filter: drop-shadow(0px 1px 2px rgba(0, 0, 0, 0.3));\n",
              "      fill: #FFFFFF;\n",
              "    }\n",
              "  </style>\n",
              "\n",
              "      <script>\n",
              "        const buttonEl =\n",
              "          document.querySelector('#df-0b503ca3-ea30-43d5-9b1d-5cb596dcc20b button.colab-df-convert');\n",
              "        buttonEl.style.display =\n",
              "          google.colab.kernel.accessAllowed ? 'block' : 'none';\n",
              "\n",
              "        async function convertToInteractive(key) {\n",
              "          const element = document.querySelector('#df-0b503ca3-ea30-43d5-9b1d-5cb596dcc20b');\n",
              "          const dataTable =\n",
              "            await google.colab.kernel.invokeFunction('convertToInteractive',\n",
              "                                                     [key], {});\n",
              "          if (!dataTable) return;\n",
              "\n",
              "          const docLinkHtml = 'Like what you see? Visit the ' +\n",
              "            '<a target=\"_blank\" href=https://colab.research.google.com/notebooks/data_table.ipynb>data table notebook</a>'\n",
              "            + ' to learn more about interactive tables.';\n",
              "          element.innerHTML = '';\n",
              "          dataTable['output_type'] = 'display_data';\n",
              "          await google.colab.output.renderOutput(dataTable, element);\n",
              "          const docLink = document.createElement('div');\n",
              "          docLink.innerHTML = docLinkHtml;\n",
              "          element.appendChild(docLink);\n",
              "        }\n",
              "      </script>\n",
              "    </div>\n",
              "  </div>\n",
              "  "
            ]
          },
          "metadata": {},
          "execution_count": 5
        }
      ]
    },
    {
      "cell_type": "code",
      "source": [
        "pd.set_option('max_colwidth', None)\n",
        "pd.set_option('max_colwidth', None)\n",
        "pd.set_option('display.max_columns', None)\n",
        "#reset \n",
        "#pd.reset_option(“max_columns”)\n",
        "repo_df.loc[repo_df['id'] == 123458551]\n"
      ],
      "metadata": {
        "colab": {
          "base_uri": "https://localhost:8080/",
          "height": 492
        },
        "id": "k3B5xORx0_WI",
        "outputId": "c83e2687-b25a-415d-9372-2e70b628d60e"
      },
      "execution_count": null,
      "outputs": [
        {
          "output_type": "execute_result",
          "data": {
            "text/plain": [
              "          id                           node_id             name  \\\n",
              "0  123458551  MDEwOlJlcG9zaXRvcnkxMjM0NTg1NTE=  Python-100-Days   \n",
              "\n",
              "                   full_name  private  \\\n",
              "0  jackfrued/Python-100-Days    False   \n",
              "\n",
              "                                                                                                                                                                                                                                                                                                                                                                                                                                                                                                                                                                                                                                                                                                                                                                                                                                                                                                                                                                                      owner  \\\n",
              "0  {'login': 'jackfrued', 'id': 7474657, 'node_id': 'MDQ6VXNlcjc0NzQ2NTc=', 'avatar_url': 'https://avatars.githubusercontent.com/u/7474657?v=4', 'gravatar_id': '', 'url': 'https://api.github.com/users/jackfrued', 'html_url': 'https://github.com/jackfrued', 'followers_url': 'https://api.github.com/users/jackfrued/followers', 'following_url': 'https://api.github.com/users/jackfrued/following{/other_user}', 'gists_url': 'https://api.github.com/users/jackfrued/gists{/gist_id}', 'starred_url': 'https://api.github.com/users/jackfrued/starred{/owner}{/repo}', 'subscriptions_url': 'https://api.github.com/users/jackfrued/subscriptions', 'organizations_url': 'https://api.github.com/users/jackfrued/orgs', 'repos_url': 'https://api.github.com/users/jackfrued/repos', 'events_url': 'https://api.github.com/users/jackfrued/events{/privacy}', 'received_events_url': 'https://api.github.com/users/jackfrued/received_events', 'type': 'User', 'site_admin': False}   \n",
              "\n",
              "                                       html_url          description   fork  \\\n",
              "0  https://github.com/jackfrued/Python-100-Days  Python - 100天从新手到大师  False   \n",
              "\n",
              "                                                      url  \\\n",
              "0  https://api.github.com/repos/jackfrued/Python-100-Days   \n",
              "\n",
              "                                                      forks_url  \\\n",
              "0  https://api.github.com/repos/jackfrued/Python-100-Days/forks   \n",
              "\n",
              "                                                               keys_url  \\\n",
              "0  https://api.github.com/repos/jackfrued/Python-100-Days/keys{/key_id}   \n",
              "\n",
              "                                                                     collaborators_url  \\\n",
              "0  https://api.github.com/repos/jackfrued/Python-100-Days/collaborators{/collaborator}   \n",
              "\n",
              "                                                      teams_url  \\\n",
              "0  https://api.github.com/repos/jackfrued/Python-100-Days/teams   \n",
              "\n",
              "                                                      hooks_url  \\\n",
              "0  https://api.github.com/repos/jackfrued/Python-100-Days/hooks   \n",
              "\n",
              "                                                                issue_events_url  \\\n",
              "0  https://api.github.com/repos/jackfrued/Python-100-Days/issues/events{/number}   \n",
              "\n",
              "                                                      events_url  \\\n",
              "0  https://api.github.com/repos/jackfrued/Python-100-Days/events   \n",
              "\n",
              "                                                             assignees_url  \\\n",
              "0  https://api.github.com/repos/jackfrued/Python-100-Days/assignees{/user}   \n",
              "\n",
              "                                                               branches_url  \\\n",
              "0  https://api.github.com/repos/jackfrued/Python-100-Days/branches{/branch}   \n",
              "\n",
              "                                                      tags_url  \\\n",
              "0  https://api.github.com/repos/jackfrued/Python-100-Days/tags   \n",
              "\n",
              "                                                                blobs_url  \\\n",
              "0  https://api.github.com/repos/jackfrued/Python-100-Days/git/blobs{/sha}   \n",
              "\n",
              "                                                            git_tags_url  \\\n",
              "0  https://api.github.com/repos/jackfrued/Python-100-Days/git/tags{/sha}   \n",
              "\n",
              "                                                            git_refs_url  \\\n",
              "0  https://api.github.com/repos/jackfrued/Python-100-Days/git/refs{/sha}   \n",
              "\n",
              "                                                                trees_url  \\\n",
              "0  https://api.github.com/repos/jackfrued/Python-100-Days/git/trees{/sha}   \n",
              "\n",
              "                                                            statuses_url  \\\n",
              "0  https://api.github.com/repos/jackfrued/Python-100-Days/statuses/{sha}   \n",
              "\n",
              "                                                      languages_url  \\\n",
              "0  https://api.github.com/repos/jackfrued/Python-100-Days/languages   \n",
              "\n",
              "                                                      stargazers_url  \\\n",
              "0  https://api.github.com/repos/jackfrued/Python-100-Days/stargazers   \n",
              "\n",
              "                                                      contributors_url  \\\n",
              "0  https://api.github.com/repos/jackfrued/Python-100-Days/contributors   \n",
              "\n",
              "                                                      subscribers_url  \\\n",
              "0  https://api.github.com/repos/jackfrued/Python-100-Days/subscribers   \n",
              "\n",
              "                                                      subscription_url  \\\n",
              "0  https://api.github.com/repos/jackfrued/Python-100-Days/subscription   \n",
              "\n",
              "                                                            commits_url  \\\n",
              "0  https://api.github.com/repos/jackfrued/Python-100-Days/commits{/sha}   \n",
              "\n",
              "                                                            git_commits_url  \\\n",
              "0  https://api.github.com/repos/jackfrued/Python-100-Days/git/commits{/sha}   \n",
              "\n",
              "                                                               comments_url  \\\n",
              "0  https://api.github.com/repos/jackfrued/Python-100-Days/comments{/number}   \n",
              "\n",
              "                                                                 issue_comment_url  \\\n",
              "0  https://api.github.com/repos/jackfrued/Python-100-Days/issues/comments{/number}   \n",
              "\n",
              "                                                              contents_url  \\\n",
              "0  https://api.github.com/repos/jackfrued/Python-100-Days/contents/{+path}   \n",
              "\n",
              "                                                                      compare_url  \\\n",
              "0  https://api.github.com/repos/jackfrued/Python-100-Days/compare/{base}...{head}   \n",
              "\n",
              "                                                      merges_url  \\\n",
              "0  https://api.github.com/repos/jackfrued/Python-100-Days/merges   \n",
              "\n",
              "                                                                     archive_url  \\\n",
              "0  https://api.github.com/repos/jackfrued/Python-100-Days/{archive_format}{/ref}   \n",
              "\n",
              "                                                      downloads_url  \\\n",
              "0  https://api.github.com/repos/jackfrued/Python-100-Days/downloads   \n",
              "\n",
              "                                                               issues_url  \\\n",
              "0  https://api.github.com/repos/jackfrued/Python-100-Days/issues{/number}   \n",
              "\n",
              "                                                               pulls_url  \\\n",
              "0  https://api.github.com/repos/jackfrued/Python-100-Days/pulls{/number}   \n",
              "\n",
              "                                                               milestones_url  \\\n",
              "0  https://api.github.com/repos/jackfrued/Python-100-Days/milestones{/number}   \n",
              "\n",
              "                                                                                notifications_url  \\\n",
              "0  https://api.github.com/repos/jackfrued/Python-100-Days/notifications{?since,all,participating}   \n",
              "\n",
              "                                                             labels_url  \\\n",
              "0  https://api.github.com/repos/jackfrued/Python-100-Days/labels{/name}   \n",
              "\n",
              "                                                           releases_url  \\\n",
              "0  https://api.github.com/repos/jackfrued/Python-100-Days/releases{/id}   \n",
              "\n",
              "                                                      deployments_url  \\\n",
              "0  https://api.github.com/repos/jackfrued/Python-100-Days/deployments   \n",
              "\n",
              "             created_at            updated_at             pushed_at  \\\n",
              "0  2018-03-01T16:05:52Z  2022-06-12T16:23:26Z  2022-04-24T01:41:14Z   \n",
              "\n",
              "                                          git_url  \\\n",
              "0  git://github.com/jackfrued/Python-100-Days.git   \n",
              "\n",
              "                                        ssh_url  \\\n",
              "0  git@github.com:jackfrued/Python-100-Days.git   \n",
              "\n",
              "                                          clone_url  \\\n",
              "0  https://github.com/jackfrued/Python-100-Days.git   \n",
              "\n",
              "                                        svn_url homepage    size  \\\n",
              "0  https://github.com/jackfrued/Python-100-Days           309850   \n",
              "\n",
              "   stargazers_count  watchers_count language  has_issues  has_projects  \\\n",
              "0            119747          119747   Python        True          True   \n",
              "\n",
              "   has_downloads  has_wiki  has_pages  forks_count mirror_url  archived  \\\n",
              "0           True      True      False        45770       None     False   \n",
              "\n",
              "   disabled  open_issues_count license  allow_forking  is_template topics  \\\n",
              "0     False                643    None           True        False     []   \n",
              "\n",
              "  visibility  forks  open_issues  watchers default_branch  score  \n",
              "0     public  45770          643    119747         master    1.0  "
            ],
            "text/html": [
              "\n",
              "  <div id=\"df-9480aab6-8719-4b8f-9796-6590e0255029\">\n",
              "    <div class=\"colab-df-container\">\n",
              "      <div>\n",
              "<style scoped>\n",
              "    .dataframe tbody tr th:only-of-type {\n",
              "        vertical-align: middle;\n",
              "    }\n",
              "\n",
              "    .dataframe tbody tr th {\n",
              "        vertical-align: top;\n",
              "    }\n",
              "\n",
              "    .dataframe thead th {\n",
              "        text-align: right;\n",
              "    }\n",
              "</style>\n",
              "<table border=\"1\" class=\"dataframe\">\n",
              "  <thead>\n",
              "    <tr style=\"text-align: right;\">\n",
              "      <th></th>\n",
              "      <th>id</th>\n",
              "      <th>node_id</th>\n",
              "      <th>name</th>\n",
              "      <th>full_name</th>\n",
              "      <th>private</th>\n",
              "      <th>owner</th>\n",
              "      <th>html_url</th>\n",
              "      <th>description</th>\n",
              "      <th>fork</th>\n",
              "      <th>url</th>\n",
              "      <th>forks_url</th>\n",
              "      <th>keys_url</th>\n",
              "      <th>collaborators_url</th>\n",
              "      <th>teams_url</th>\n",
              "      <th>hooks_url</th>\n",
              "      <th>issue_events_url</th>\n",
              "      <th>events_url</th>\n",
              "      <th>assignees_url</th>\n",
              "      <th>branches_url</th>\n",
              "      <th>tags_url</th>\n",
              "      <th>blobs_url</th>\n",
              "      <th>git_tags_url</th>\n",
              "      <th>git_refs_url</th>\n",
              "      <th>trees_url</th>\n",
              "      <th>statuses_url</th>\n",
              "      <th>languages_url</th>\n",
              "      <th>stargazers_url</th>\n",
              "      <th>contributors_url</th>\n",
              "      <th>subscribers_url</th>\n",
              "      <th>subscription_url</th>\n",
              "      <th>commits_url</th>\n",
              "      <th>git_commits_url</th>\n",
              "      <th>comments_url</th>\n",
              "      <th>issue_comment_url</th>\n",
              "      <th>contents_url</th>\n",
              "      <th>compare_url</th>\n",
              "      <th>merges_url</th>\n",
              "      <th>archive_url</th>\n",
              "      <th>downloads_url</th>\n",
              "      <th>issues_url</th>\n",
              "      <th>pulls_url</th>\n",
              "      <th>milestones_url</th>\n",
              "      <th>notifications_url</th>\n",
              "      <th>labels_url</th>\n",
              "      <th>releases_url</th>\n",
              "      <th>deployments_url</th>\n",
              "      <th>created_at</th>\n",
              "      <th>updated_at</th>\n",
              "      <th>pushed_at</th>\n",
              "      <th>git_url</th>\n",
              "      <th>ssh_url</th>\n",
              "      <th>clone_url</th>\n",
              "      <th>svn_url</th>\n",
              "      <th>homepage</th>\n",
              "      <th>size</th>\n",
              "      <th>stargazers_count</th>\n",
              "      <th>watchers_count</th>\n",
              "      <th>language</th>\n",
              "      <th>has_issues</th>\n",
              "      <th>has_projects</th>\n",
              "      <th>has_downloads</th>\n",
              "      <th>has_wiki</th>\n",
              "      <th>has_pages</th>\n",
              "      <th>forks_count</th>\n",
              "      <th>mirror_url</th>\n",
              "      <th>archived</th>\n",
              "      <th>disabled</th>\n",
              "      <th>open_issues_count</th>\n",
              "      <th>license</th>\n",
              "      <th>allow_forking</th>\n",
              "      <th>is_template</th>\n",
              "      <th>topics</th>\n",
              "      <th>visibility</th>\n",
              "      <th>forks</th>\n",
              "      <th>open_issues</th>\n",
              "      <th>watchers</th>\n",
              "      <th>default_branch</th>\n",
              "      <th>score</th>\n",
              "    </tr>\n",
              "  </thead>\n",
              "  <tbody>\n",
              "    <tr>\n",
              "      <th>0</th>\n",
              "      <td>123458551</td>\n",
              "      <td>MDEwOlJlcG9zaXRvcnkxMjM0NTg1NTE=</td>\n",
              "      <td>Python-100-Days</td>\n",
              "      <td>jackfrued/Python-100-Days</td>\n",
              "      <td>False</td>\n",
              "      <td>{'login': 'jackfrued', 'id': 7474657, 'node_id': 'MDQ6VXNlcjc0NzQ2NTc=', 'avatar_url': 'https://avatars.githubusercontent.com/u/7474657?v=4', 'gravatar_id': '', 'url': 'https://api.github.com/users/jackfrued', 'html_url': 'https://github.com/jackfrued', 'followers_url': 'https://api.github.com/users/jackfrued/followers', 'following_url': 'https://api.github.com/users/jackfrued/following{/other_user}', 'gists_url': 'https://api.github.com/users/jackfrued/gists{/gist_id}', 'starred_url': 'https://api.github.com/users/jackfrued/starred{/owner}{/repo}', 'subscriptions_url': 'https://api.github.com/users/jackfrued/subscriptions', 'organizations_url': 'https://api.github.com/users/jackfrued/orgs', 'repos_url': 'https://api.github.com/users/jackfrued/repos', 'events_url': 'https://api.github.com/users/jackfrued/events{/privacy}', 'received_events_url': 'https://api.github.com/users/jackfrued/received_events', 'type': 'User', 'site_admin': False}</td>\n",
              "      <td>https://github.com/jackfrued/Python-100-Days</td>\n",
              "      <td>Python - 100天从新手到大师</td>\n",
              "      <td>False</td>\n",
              "      <td>https://api.github.com/repos/jackfrued/Python-100-Days</td>\n",
              "      <td>https://api.github.com/repos/jackfrued/Python-100-Days/forks</td>\n",
              "      <td>https://api.github.com/repos/jackfrued/Python-100-Days/keys{/key_id}</td>\n",
              "      <td>https://api.github.com/repos/jackfrued/Python-100-Days/collaborators{/collaborator}</td>\n",
              "      <td>https://api.github.com/repos/jackfrued/Python-100-Days/teams</td>\n",
              "      <td>https://api.github.com/repos/jackfrued/Python-100-Days/hooks</td>\n",
              "      <td>https://api.github.com/repos/jackfrued/Python-100-Days/issues/events{/number}</td>\n",
              "      <td>https://api.github.com/repos/jackfrued/Python-100-Days/events</td>\n",
              "      <td>https://api.github.com/repos/jackfrued/Python-100-Days/assignees{/user}</td>\n",
              "      <td>https://api.github.com/repos/jackfrued/Python-100-Days/branches{/branch}</td>\n",
              "      <td>https://api.github.com/repos/jackfrued/Python-100-Days/tags</td>\n",
              "      <td>https://api.github.com/repos/jackfrued/Python-100-Days/git/blobs{/sha}</td>\n",
              "      <td>https://api.github.com/repos/jackfrued/Python-100-Days/git/tags{/sha}</td>\n",
              "      <td>https://api.github.com/repos/jackfrued/Python-100-Days/git/refs{/sha}</td>\n",
              "      <td>https://api.github.com/repos/jackfrued/Python-100-Days/git/trees{/sha}</td>\n",
              "      <td>https://api.github.com/repos/jackfrued/Python-100-Days/statuses/{sha}</td>\n",
              "      <td>https://api.github.com/repos/jackfrued/Python-100-Days/languages</td>\n",
              "      <td>https://api.github.com/repos/jackfrued/Python-100-Days/stargazers</td>\n",
              "      <td>https://api.github.com/repos/jackfrued/Python-100-Days/contributors</td>\n",
              "      <td>https://api.github.com/repos/jackfrued/Python-100-Days/subscribers</td>\n",
              "      <td>https://api.github.com/repos/jackfrued/Python-100-Days/subscription</td>\n",
              "      <td>https://api.github.com/repos/jackfrued/Python-100-Days/commits{/sha}</td>\n",
              "      <td>https://api.github.com/repos/jackfrued/Python-100-Days/git/commits{/sha}</td>\n",
              "      <td>https://api.github.com/repos/jackfrued/Python-100-Days/comments{/number}</td>\n",
              "      <td>https://api.github.com/repos/jackfrued/Python-100-Days/issues/comments{/number}</td>\n",
              "      <td>https://api.github.com/repos/jackfrued/Python-100-Days/contents/{+path}</td>\n",
              "      <td>https://api.github.com/repos/jackfrued/Python-100-Days/compare/{base}...{head}</td>\n",
              "      <td>https://api.github.com/repos/jackfrued/Python-100-Days/merges</td>\n",
              "      <td>https://api.github.com/repos/jackfrued/Python-100-Days/{archive_format}{/ref}</td>\n",
              "      <td>https://api.github.com/repos/jackfrued/Python-100-Days/downloads</td>\n",
              "      <td>https://api.github.com/repos/jackfrued/Python-100-Days/issues{/number}</td>\n",
              "      <td>https://api.github.com/repos/jackfrued/Python-100-Days/pulls{/number}</td>\n",
              "      <td>https://api.github.com/repos/jackfrued/Python-100-Days/milestones{/number}</td>\n",
              "      <td>https://api.github.com/repos/jackfrued/Python-100-Days/notifications{?since,all,participating}</td>\n",
              "      <td>https://api.github.com/repos/jackfrued/Python-100-Days/labels{/name}</td>\n",
              "      <td>https://api.github.com/repos/jackfrued/Python-100-Days/releases{/id}</td>\n",
              "      <td>https://api.github.com/repos/jackfrued/Python-100-Days/deployments</td>\n",
              "      <td>2018-03-01T16:05:52Z</td>\n",
              "      <td>2022-06-12T16:23:26Z</td>\n",
              "      <td>2022-04-24T01:41:14Z</td>\n",
              "      <td>git://github.com/jackfrued/Python-100-Days.git</td>\n",
              "      <td>git@github.com:jackfrued/Python-100-Days.git</td>\n",
              "      <td>https://github.com/jackfrued/Python-100-Days.git</td>\n",
              "      <td>https://github.com/jackfrued/Python-100-Days</td>\n",
              "      <td></td>\n",
              "      <td>309850</td>\n",
              "      <td>119747</td>\n",
              "      <td>119747</td>\n",
              "      <td>Python</td>\n",
              "      <td>True</td>\n",
              "      <td>True</td>\n",
              "      <td>True</td>\n",
              "      <td>True</td>\n",
              "      <td>False</td>\n",
              "      <td>45770</td>\n",
              "      <td>None</td>\n",
              "      <td>False</td>\n",
              "      <td>False</td>\n",
              "      <td>643</td>\n",
              "      <td>None</td>\n",
              "      <td>True</td>\n",
              "      <td>False</td>\n",
              "      <td>[]</td>\n",
              "      <td>public</td>\n",
              "      <td>45770</td>\n",
              "      <td>643</td>\n",
              "      <td>119747</td>\n",
              "      <td>master</td>\n",
              "      <td>1.0</td>\n",
              "    </tr>\n",
              "  </tbody>\n",
              "</table>\n",
              "</div>\n",
              "      <button class=\"colab-df-convert\" onclick=\"convertToInteractive('df-9480aab6-8719-4b8f-9796-6590e0255029')\"\n",
              "              title=\"Convert this dataframe to an interactive table.\"\n",
              "              style=\"display:none;\">\n",
              "        \n",
              "  <svg xmlns=\"http://www.w3.org/2000/svg\" height=\"24px\"viewBox=\"0 0 24 24\"\n",
              "       width=\"24px\">\n",
              "    <path d=\"M0 0h24v24H0V0z\" fill=\"none\"/>\n",
              "    <path d=\"M18.56 5.44l.94 2.06.94-2.06 2.06-.94-2.06-.94-.94-2.06-.94 2.06-2.06.94zm-11 1L8.5 8.5l.94-2.06 2.06-.94-2.06-.94L8.5 2.5l-.94 2.06-2.06.94zm10 10l.94 2.06.94-2.06 2.06-.94-2.06-.94-.94-2.06-.94 2.06-2.06.94z\"/><path d=\"M17.41 7.96l-1.37-1.37c-.4-.4-.92-.59-1.43-.59-.52 0-1.04.2-1.43.59L10.3 9.45l-7.72 7.72c-.78.78-.78 2.05 0 2.83L4 21.41c.39.39.9.59 1.41.59.51 0 1.02-.2 1.41-.59l7.78-7.78 2.81-2.81c.8-.78.8-2.07 0-2.86zM5.41 20L4 18.59l7.72-7.72 1.47 1.35L5.41 20z\"/>\n",
              "  </svg>\n",
              "      </button>\n",
              "      \n",
              "  <style>\n",
              "    .colab-df-container {\n",
              "      display:flex;\n",
              "      flex-wrap:wrap;\n",
              "      gap: 12px;\n",
              "    }\n",
              "\n",
              "    .colab-df-convert {\n",
              "      background-color: #E8F0FE;\n",
              "      border: none;\n",
              "      border-radius: 50%;\n",
              "      cursor: pointer;\n",
              "      display: none;\n",
              "      fill: #1967D2;\n",
              "      height: 32px;\n",
              "      padding: 0 0 0 0;\n",
              "      width: 32px;\n",
              "    }\n",
              "\n",
              "    .colab-df-convert:hover {\n",
              "      background-color: #E2EBFA;\n",
              "      box-shadow: 0px 1px 2px rgba(60, 64, 67, 0.3), 0px 1px 3px 1px rgba(60, 64, 67, 0.15);\n",
              "      fill: #174EA6;\n",
              "    }\n",
              "\n",
              "    [theme=dark] .colab-df-convert {\n",
              "      background-color: #3B4455;\n",
              "      fill: #D2E3FC;\n",
              "    }\n",
              "\n",
              "    [theme=dark] .colab-df-convert:hover {\n",
              "      background-color: #434B5C;\n",
              "      box-shadow: 0px 1px 3px 1px rgba(0, 0, 0, 0.15);\n",
              "      filter: drop-shadow(0px 1px 2px rgba(0, 0, 0, 0.3));\n",
              "      fill: #FFFFFF;\n",
              "    }\n",
              "  </style>\n",
              "\n",
              "      <script>\n",
              "        const buttonEl =\n",
              "          document.querySelector('#df-9480aab6-8719-4b8f-9796-6590e0255029 button.colab-df-convert');\n",
              "        buttonEl.style.display =\n",
              "          google.colab.kernel.accessAllowed ? 'block' : 'none';\n",
              "\n",
              "        async function convertToInteractive(key) {\n",
              "          const element = document.querySelector('#df-9480aab6-8719-4b8f-9796-6590e0255029');\n",
              "          const dataTable =\n",
              "            await google.colab.kernel.invokeFunction('convertToInteractive',\n",
              "                                                     [key], {});\n",
              "          if (!dataTable) return;\n",
              "\n",
              "          const docLinkHtml = 'Like what you see? Visit the ' +\n",
              "            '<a target=\"_blank\" href=https://colab.research.google.com/notebooks/data_table.ipynb>data table notebook</a>'\n",
              "            + ' to learn more about interactive tables.';\n",
              "          element.innerHTML = '';\n",
              "          dataTable['output_type'] = 'display_data';\n",
              "          await google.colab.output.renderOutput(dataTable, element);\n",
              "          const docLink = document.createElement('div');\n",
              "          docLink.innerHTML = docLinkHtml;\n",
              "          element.appendChild(docLink);\n",
              "        }\n",
              "      </script>\n",
              "    </div>\n",
              "  </div>\n",
              "  "
            ]
          },
          "metadata": {},
          "execution_count": 193
        }
      ]
    },
    {
      "cell_type": "code",
      "source": [
        "repo_df.columns"
      ],
      "metadata": {
        "id": "UAqmCaIEbDz6"
      },
      "execution_count": null,
      "outputs": []
    },
    {
      "cell_type": "code",
      "source": [
        ""
      ],
      "metadata": {
        "colab": {
          "base_uri": "https://localhost:8080/"
        },
        "id": "u30-fxatuPi5",
        "outputId": "1103816f-a00f-46b9-f74d-e6fe0abdf105"
      },
      "execution_count": null,
      "outputs": [
        {
          "output_type": "stream",
          "name": "stdout",
          "text": [
            "Looking in indexes: https://pypi.org/simple, https://us-python.pkg.dev/colab-wheels/public/simple/\n",
            "\u001b[31mERROR: Could not find a version that satisfies the requirement star-history (from versions: none)\u001b[0m\n",
            "\u001b[31mERROR: No matching distribution found for star-history\u001b[0m\n"
          ]
        }
      ]
    },
    {
      "cell_type": "code",
      "source": [
        "#stars overtime\n",
        "\n",
        "url = 'https://api.github.com/repos/freeCodeCamp/freeCodeCamp/stargazers'\n",
        "\n",
        "\n",
        "#use request module to \n",
        "repo_response = requests.get(url,headers={'Accept': 'application/vnd.github.v3.star+json'})\n",
        "#stars = results.headers\n",
        "\n",
        "print(repo_response.json())\n",
        "\n"
      ],
      "metadata": {
        "colab": {
          "base_uri": "https://localhost:8080/"
        },
        "id": "Jz0jj_GRril9",
        "outputId": "644763a3-63fc-478d-bf03-4b8edd43b897"
      },
      "execution_count": null,
      "outputs": [
        {
          "output_type": "stream",
          "name": "stdout",
          "text": [
            "[{'starred_at': '2014-12-24T20:05:35Z', 'user': {'login': 'BerkeleyTrue', 'id': 6775919, 'node_id': 'MDQ6VXNlcjY3NzU5MTk=', 'avatar_url': 'https://avatars.githubusercontent.com/u/6775919?v=4', 'gravatar_id': '', 'url': 'https://api.github.com/users/BerkeleyTrue', 'html_url': 'https://github.com/BerkeleyTrue', 'followers_url': 'https://api.github.com/users/BerkeleyTrue/followers', 'following_url': 'https://api.github.com/users/BerkeleyTrue/following{/other_user}', 'gists_url': 'https://api.github.com/users/BerkeleyTrue/gists{/gist_id}', 'starred_url': 'https://api.github.com/users/BerkeleyTrue/starred{/owner}{/repo}', 'subscriptions_url': 'https://api.github.com/users/BerkeleyTrue/subscriptions', 'organizations_url': 'https://api.github.com/users/BerkeleyTrue/orgs', 'repos_url': 'https://api.github.com/users/BerkeleyTrue/repos', 'events_url': 'https://api.github.com/users/BerkeleyTrue/events{/privacy}', 'received_events_url': 'https://api.github.com/users/BerkeleyTrue/received_events', 'type': 'User', 'site_admin': False}}, {'starred_at': '2014-12-27T06:32:44Z', 'user': {'login': 'maheshsundaram', 'id': 9041312, 'node_id': 'MDQ6VXNlcjkwNDEzMTI=', 'avatar_url': 'https://avatars.githubusercontent.com/u/9041312?v=4', 'gravatar_id': '', 'url': 'https://api.github.com/users/maheshsundaram', 'html_url': 'https://github.com/maheshsundaram', 'followers_url': 'https://api.github.com/users/maheshsundaram/followers', 'following_url': 'https://api.github.com/users/maheshsundaram/following{/other_user}', 'gists_url': 'https://api.github.com/users/maheshsundaram/gists{/gist_id}', 'starred_url': 'https://api.github.com/users/maheshsundaram/starred{/owner}{/repo}', 'subscriptions_url': 'https://api.github.com/users/maheshsundaram/subscriptions', 'organizations_url': 'https://api.github.com/users/maheshsundaram/orgs', 'repos_url': 'https://api.github.com/users/maheshsundaram/repos', 'events_url': 'https://api.github.com/users/maheshsundaram/events{/privacy}', 'received_events_url': 'https://api.github.com/users/maheshsundaram/received_events', 'type': 'User', 'site_admin': False}}, {'starred_at': '2014-12-29T07:16:50Z', 'user': {'login': 'bubencode', 'id': 7376026, 'node_id': 'MDQ6VXNlcjczNzYwMjY=', 'avatar_url': 'https://avatars.githubusercontent.com/u/7376026?v=4', 'gravatar_id': '', 'url': 'https://api.github.com/users/bubencode', 'html_url': 'https://github.com/bubencode', 'followers_url': 'https://api.github.com/users/bubencode/followers', 'following_url': 'https://api.github.com/users/bubencode/following{/other_user}', 'gists_url': 'https://api.github.com/users/bubencode/gists{/gist_id}', 'starred_url': 'https://api.github.com/users/bubencode/starred{/owner}{/repo}', 'subscriptions_url': 'https://api.github.com/users/bubencode/subscriptions', 'organizations_url': 'https://api.github.com/users/bubencode/orgs', 'repos_url': 'https://api.github.com/users/bubencode/repos', 'events_url': 'https://api.github.com/users/bubencode/events{/privacy}', 'received_events_url': 'https://api.github.com/users/bubencode/received_events', 'type': 'User', 'site_admin': False}}, {'starred_at': '2014-12-29T22:25:17Z', 'user': {'login': 'serkanh', 'id': 947426, 'node_id': 'MDQ6VXNlcjk0NzQyNg==', 'avatar_url': 'https://avatars.githubusercontent.com/u/947426?v=4', 'gravatar_id': '', 'url': 'https://api.github.com/users/serkanh', 'html_url': 'https://github.com/serkanh', 'followers_url': 'https://api.github.com/users/serkanh/followers', 'following_url': 'https://api.github.com/users/serkanh/following{/other_user}', 'gists_url': 'https://api.github.com/users/serkanh/gists{/gist_id}', 'starred_url': 'https://api.github.com/users/serkanh/starred{/owner}{/repo}', 'subscriptions_url': 'https://api.github.com/users/serkanh/subscriptions', 'organizations_url': 'https://api.github.com/users/serkanh/orgs', 'repos_url': 'https://api.github.com/users/serkanh/repos', 'events_url': 'https://api.github.com/users/serkanh/events{/privacy}', 'received_events_url': 'https://api.github.com/users/serkanh/received_events', 'type': 'User', 'site_admin': False}}, {'starred_at': '2014-12-30T01:40:04Z', 'user': {'login': 'ksharifbd', 'id': 7776002, 'node_id': 'MDQ6VXNlcjc3NzYwMDI=', 'avatar_url': 'https://avatars.githubusercontent.com/u/7776002?v=4', 'gravatar_id': '', 'url': 'https://api.github.com/users/ksharifbd', 'html_url': 'https://github.com/ksharifbd', 'followers_url': 'https://api.github.com/users/ksharifbd/followers', 'following_url': 'https://api.github.com/users/ksharifbd/following{/other_user}', 'gists_url': 'https://api.github.com/users/ksharifbd/gists{/gist_id}', 'starred_url': 'https://api.github.com/users/ksharifbd/starred{/owner}{/repo}', 'subscriptions_url': 'https://api.github.com/users/ksharifbd/subscriptions', 'organizations_url': 'https://api.github.com/users/ksharifbd/orgs', 'repos_url': 'https://api.github.com/users/ksharifbd/repos', 'events_url': 'https://api.github.com/users/ksharifbd/events{/privacy}', 'received_events_url': 'https://api.github.com/users/ksharifbd/received_events', 'type': 'User', 'site_admin': False}}, {'starred_at': '2014-12-30T05:41:59Z', 'user': {'login': 'artificemm', 'id': 18200, 'node_id': 'MDQ6VXNlcjE4MjAw', 'avatar_url': 'https://avatars.githubusercontent.com/u/18200?v=4', 'gravatar_id': '', 'url': 'https://api.github.com/users/artificemm', 'html_url': 'https://github.com/artificemm', 'followers_url': 'https://api.github.com/users/artificemm/followers', 'following_url': 'https://api.github.com/users/artificemm/following{/other_user}', 'gists_url': 'https://api.github.com/users/artificemm/gists{/gist_id}', 'starred_url': 'https://api.github.com/users/artificemm/starred{/owner}{/repo}', 'subscriptions_url': 'https://api.github.com/users/artificemm/subscriptions', 'organizations_url': 'https://api.github.com/users/artificemm/orgs', 'repos_url': 'https://api.github.com/users/artificemm/repos', 'events_url': 'https://api.github.com/users/artificemm/events{/privacy}', 'received_events_url': 'https://api.github.com/users/artificemm/received_events', 'type': 'User', 'site_admin': False}}, {'starred_at': '2014-12-31T07:38:18Z', 'user': {'login': 'ertuncefeoglu', 'id': 2078621, 'node_id': 'MDQ6VXNlcjIwNzg2MjE=', 'avatar_url': 'https://avatars.githubusercontent.com/u/2078621?v=4', 'gravatar_id': '', 'url': 'https://api.github.com/users/ertuncefeoglu', 'html_url': 'https://github.com/ertuncefeoglu', 'followers_url': 'https://api.github.com/users/ertuncefeoglu/followers', 'following_url': 'https://api.github.com/users/ertuncefeoglu/following{/other_user}', 'gists_url': 'https://api.github.com/users/ertuncefeoglu/gists{/gist_id}', 'starred_url': 'https://api.github.com/users/ertuncefeoglu/starred{/owner}{/repo}', 'subscriptions_url': 'https://api.github.com/users/ertuncefeoglu/subscriptions', 'organizations_url': 'https://api.github.com/users/ertuncefeoglu/orgs', 'repos_url': 'https://api.github.com/users/ertuncefeoglu/repos', 'events_url': 'https://api.github.com/users/ertuncefeoglu/events{/privacy}', 'received_events_url': 'https://api.github.com/users/ertuncefeoglu/received_events', 'type': 'User', 'site_admin': False}}, {'starred_at': '2014-12-31T14:36:46Z', 'user': {'login': 'iancmason', 'id': 1485780, 'node_id': 'MDQ6VXNlcjE0ODU3ODA=', 'avatar_url': 'https://avatars.githubusercontent.com/u/1485780?v=4', 'gravatar_id': '', 'url': 'https://api.github.com/users/iancmason', 'html_url': 'https://github.com/iancmason', 'followers_url': 'https://api.github.com/users/iancmason/followers', 'following_url': 'https://api.github.com/users/iancmason/following{/other_user}', 'gists_url': 'https://api.github.com/users/iancmason/gists{/gist_id}', 'starred_url': 'https://api.github.com/users/iancmason/starred{/owner}{/repo}', 'subscriptions_url': 'https://api.github.com/users/iancmason/subscriptions', 'organizations_url': 'https://api.github.com/users/iancmason/orgs', 'repos_url': 'https://api.github.com/users/iancmason/repos', 'events_url': 'https://api.github.com/users/iancmason/events{/privacy}', 'received_events_url': 'https://api.github.com/users/iancmason/received_events', 'type': 'User', 'site_admin': False}}, {'starred_at': '2014-12-31T15:14:03Z', 'user': {'login': 'adamnemecek', 'id': 182415, 'node_id': 'MDQ6VXNlcjE4MjQxNQ==', 'avatar_url': 'https://avatars.githubusercontent.com/u/182415?v=4', 'gravatar_id': '', 'url': 'https://api.github.com/users/adamnemecek', 'html_url': 'https://github.com/adamnemecek', 'followers_url': 'https://api.github.com/users/adamnemecek/followers', 'following_url': 'https://api.github.com/users/adamnemecek/following{/other_user}', 'gists_url': 'https://api.github.com/users/adamnemecek/gists{/gist_id}', 'starred_url': 'https://api.github.com/users/adamnemecek/starred{/owner}{/repo}', 'subscriptions_url': 'https://api.github.com/users/adamnemecek/subscriptions', 'organizations_url': 'https://api.github.com/users/adamnemecek/orgs', 'repos_url': 'https://api.github.com/users/adamnemecek/repos', 'events_url': 'https://api.github.com/users/adamnemecek/events{/privacy}', 'received_events_url': 'https://api.github.com/users/adamnemecek/received_events', 'type': 'User', 'site_admin': False}}, {'starred_at': '2014-12-31T18:59:41Z', 'user': {'login': 'sleepy-cat', 'id': 1391125, 'node_id': 'MDQ6VXNlcjEzOTExMjU=', 'avatar_url': 'https://avatars.githubusercontent.com/u/1391125?v=4', 'gravatar_id': '', 'url': 'https://api.github.com/users/sleepy-cat', 'html_url': 'https://github.com/sleepy-cat', 'followers_url': 'https://api.github.com/users/sleepy-cat/followers', 'following_url': 'https://api.github.com/users/sleepy-cat/following{/other_user}', 'gists_url': 'https://api.github.com/users/sleepy-cat/gists{/gist_id}', 'starred_url': 'https://api.github.com/users/sleepy-cat/starred{/owner}{/repo}', 'subscriptions_url': 'https://api.github.com/users/sleepy-cat/subscriptions', 'organizations_url': 'https://api.github.com/users/sleepy-cat/orgs', 'repos_url': 'https://api.github.com/users/sleepy-cat/repos', 'events_url': 'https://api.github.com/users/sleepy-cat/events{/privacy}', 'received_events_url': 'https://api.github.com/users/sleepy-cat/received_events', 'type': 'User', 'site_admin': False}}, {'starred_at': '2014-12-31T20:39:06Z', 'user': {'login': 'tooqinc', 'id': 5984407, 'node_id': 'MDQ6VXNlcjU5ODQ0MDc=', 'avatar_url': 'https://avatars.githubusercontent.com/u/5984407?v=4', 'gravatar_id': '', 'url': 'https://api.github.com/users/tooqinc', 'html_url': 'https://github.com/tooqinc', 'followers_url': 'https://api.github.com/users/tooqinc/followers', 'following_url': 'https://api.github.com/users/tooqinc/following{/other_user}', 'gists_url': 'https://api.github.com/users/tooqinc/gists{/gist_id}', 'starred_url': 'https://api.github.com/users/tooqinc/starred{/owner}{/repo}', 'subscriptions_url': 'https://api.github.com/users/tooqinc/subscriptions', 'organizations_url': 'https://api.github.com/users/tooqinc/orgs', 'repos_url': 'https://api.github.com/users/tooqinc/repos', 'events_url': 'https://api.github.com/users/tooqinc/events{/privacy}', 'received_events_url': 'https://api.github.com/users/tooqinc/received_events', 'type': 'User', 'site_admin': False}}, {'starred_at': '2014-12-31T21:05:05Z', 'user': {'login': 'levonk', 'id': 277861, 'node_id': 'MDQ6VXNlcjI3Nzg2MQ==', 'avatar_url': 'https://avatars.githubusercontent.com/u/277861?v=4', 'gravatar_id': '', 'url': 'https://api.github.com/users/levonk', 'html_url': 'https://github.com/levonk', 'followers_url': 'https://api.github.com/users/levonk/followers', 'following_url': 'https://api.github.com/users/levonk/following{/other_user}', 'gists_url': 'https://api.github.com/users/levonk/gists{/gist_id}', 'starred_url': 'https://api.github.com/users/levonk/starred{/owner}{/repo}', 'subscriptions_url': 'https://api.github.com/users/levonk/subscriptions', 'organizations_url': 'https://api.github.com/users/levonk/orgs', 'repos_url': 'https://api.github.com/users/levonk/repos', 'events_url': 'https://api.github.com/users/levonk/events{/privacy}', 'received_events_url': 'https://api.github.com/users/levonk/received_events', 'type': 'User', 'site_admin': False}}, {'starred_at': '2014-12-31T21:34:30Z', 'user': {'login': 'kaplejon', 'id': 5133819, 'node_id': 'MDQ6VXNlcjUxMzM4MTk=', 'avatar_url': 'https://avatars.githubusercontent.com/u/5133819?v=4', 'gravatar_id': '', 'url': 'https://api.github.com/users/kaplejon', 'html_url': 'https://github.com/kaplejon', 'followers_url': 'https://api.github.com/users/kaplejon/followers', 'following_url': 'https://api.github.com/users/kaplejon/following{/other_user}', 'gists_url': 'https://api.github.com/users/kaplejon/gists{/gist_id}', 'starred_url': 'https://api.github.com/users/kaplejon/starred{/owner}{/repo}', 'subscriptions_url': 'https://api.github.com/users/kaplejon/subscriptions', 'organizations_url': 'https://api.github.com/users/kaplejon/orgs', 'repos_url': 'https://api.github.com/users/kaplejon/repos', 'events_url': 'https://api.github.com/users/kaplejon/events{/privacy}', 'received_events_url': 'https://api.github.com/users/kaplejon/received_events', 'type': 'User', 'site_admin': False}}, {'starred_at': '2014-12-31T22:07:55Z', 'user': {'login': 'zachshallbetter', 'id': 949434, 'node_id': 'MDQ6VXNlcjk0OTQzNA==', 'avatar_url': 'https://avatars.githubusercontent.com/u/949434?v=4', 'gravatar_id': '', 'url': 'https://api.github.com/users/zachshallbetter', 'html_url': 'https://github.com/zachshallbetter', 'followers_url': 'https://api.github.com/users/zachshallbetter/followers', 'following_url': 'https://api.github.com/users/zachshallbetter/following{/other_user}', 'gists_url': 'https://api.github.com/users/zachshallbetter/gists{/gist_id}', 'starred_url': 'https://api.github.com/users/zachshallbetter/starred{/owner}{/repo}', 'subscriptions_url': 'https://api.github.com/users/zachshallbetter/subscriptions', 'organizations_url': 'https://api.github.com/users/zachshallbetter/orgs', 'repos_url': 'https://api.github.com/users/zachshallbetter/repos', 'events_url': 'https://api.github.com/users/zachshallbetter/events{/privacy}', 'received_events_url': 'https://api.github.com/users/zachshallbetter/received_events', 'type': 'User', 'site_admin': False}}, {'starred_at': '2014-12-31T22:47:02Z', 'user': {'login': 'notnorth', 'id': 10211436, 'node_id': 'MDQ6VXNlcjEwMjExNDM2', 'avatar_url': 'https://avatars.githubusercontent.com/u/10211436?v=4', 'gravatar_id': '', 'url': 'https://api.github.com/users/notnorth', 'html_url': 'https://github.com/notnorth', 'followers_url': 'https://api.github.com/users/notnorth/followers', 'following_url': 'https://api.github.com/users/notnorth/following{/other_user}', 'gists_url': 'https://api.github.com/users/notnorth/gists{/gist_id}', 'starred_url': 'https://api.github.com/users/notnorth/starred{/owner}{/repo}', 'subscriptions_url': 'https://api.github.com/users/notnorth/subscriptions', 'organizations_url': 'https://api.github.com/users/notnorth/orgs', 'repos_url': 'https://api.github.com/users/notnorth/repos', 'events_url': 'https://api.github.com/users/notnorth/events{/privacy}', 'received_events_url': 'https://api.github.com/users/notnorth/received_events', 'type': 'User', 'site_admin': False}}, {'starred_at': '2014-12-31T23:53:03Z', 'user': {'login': 'robertmarsal', 'id': 507871, 'node_id': 'MDQ6VXNlcjUwNzg3MQ==', 'avatar_url': 'https://avatars.githubusercontent.com/u/507871?v=4', 'gravatar_id': '', 'url': 'https://api.github.com/users/robertmarsal', 'html_url': 'https://github.com/robertmarsal', 'followers_url': 'https://api.github.com/users/robertmarsal/followers', 'following_url': 'https://api.github.com/users/robertmarsal/following{/other_user}', 'gists_url': 'https://api.github.com/users/robertmarsal/gists{/gist_id}', 'starred_url': 'https://api.github.com/users/robertmarsal/starred{/owner}{/repo}', 'subscriptions_url': 'https://api.github.com/users/robertmarsal/subscriptions', 'organizations_url': 'https://api.github.com/users/robertmarsal/orgs', 'repos_url': 'https://api.github.com/users/robertmarsal/repos', 'events_url': 'https://api.github.com/users/robertmarsal/events{/privacy}', 'received_events_url': 'https://api.github.com/users/robertmarsal/received_events', 'type': 'User', 'site_admin': False}}, {'starred_at': '2015-01-01T00:27:19Z', 'user': {'login': 'lvnilesh', 'id': 93558, 'node_id': 'MDQ6VXNlcjkzNTU4', 'avatar_url': 'https://avatars.githubusercontent.com/u/93558?v=4', 'gravatar_id': '', 'url': 'https://api.github.com/users/lvnilesh', 'html_url': 'https://github.com/lvnilesh', 'followers_url': 'https://api.github.com/users/lvnilesh/followers', 'following_url': 'https://api.github.com/users/lvnilesh/following{/other_user}', 'gists_url': 'https://api.github.com/users/lvnilesh/gists{/gist_id}', 'starred_url': 'https://api.github.com/users/lvnilesh/starred{/owner}{/repo}', 'subscriptions_url': 'https://api.github.com/users/lvnilesh/subscriptions', 'organizations_url': 'https://api.github.com/users/lvnilesh/orgs', 'repos_url': 'https://api.github.com/users/lvnilesh/repos', 'events_url': 'https://api.github.com/users/lvnilesh/events{/privacy}', 'received_events_url': 'https://api.github.com/users/lvnilesh/received_events', 'type': 'User', 'site_admin': False}}, {'starred_at': '2015-01-01T06:28:35Z', 'user': {'login': 'jakblak', 'id': 5496929, 'node_id': 'MDQ6VXNlcjU0OTY5Mjk=', 'avatar_url': 'https://avatars.githubusercontent.com/u/5496929?v=4', 'gravatar_id': '', 'url': 'https://api.github.com/users/jakblak', 'html_url': 'https://github.com/jakblak', 'followers_url': 'https://api.github.com/users/jakblak/followers', 'following_url': 'https://api.github.com/users/jakblak/following{/other_user}', 'gists_url': 'https://api.github.com/users/jakblak/gists{/gist_id}', 'starred_url': 'https://api.github.com/users/jakblak/starred{/owner}{/repo}', 'subscriptions_url': 'https://api.github.com/users/jakblak/subscriptions', 'organizations_url': 'https://api.github.com/users/jakblak/orgs', 'repos_url': 'https://api.github.com/users/jakblak/repos', 'events_url': 'https://api.github.com/users/jakblak/events{/privacy}', 'received_events_url': 'https://api.github.com/users/jakblak/received_events', 'type': 'User', 'site_admin': False}}, {'starred_at': '2015-01-01T11:10:44Z', 'user': {'login': 'holyxiaoxin', 'id': 5796213, 'node_id': 'MDQ6VXNlcjU3OTYyMTM=', 'avatar_url': 'https://avatars.githubusercontent.com/u/5796213?v=4', 'gravatar_id': '', 'url': 'https://api.github.com/users/holyxiaoxin', 'html_url': 'https://github.com/holyxiaoxin', 'followers_url': 'https://api.github.com/users/holyxiaoxin/followers', 'following_url': 'https://api.github.com/users/holyxiaoxin/following{/other_user}', 'gists_url': 'https://api.github.com/users/holyxiaoxin/gists{/gist_id}', 'starred_url': 'https://api.github.com/users/holyxiaoxin/starred{/owner}{/repo}', 'subscriptions_url': 'https://api.github.com/users/holyxiaoxin/subscriptions', 'organizations_url': 'https://api.github.com/users/holyxiaoxin/orgs', 'repos_url': 'https://api.github.com/users/holyxiaoxin/repos', 'events_url': 'https://api.github.com/users/holyxiaoxin/events{/privacy}', 'received_events_url': 'https://api.github.com/users/holyxiaoxin/received_events', 'type': 'User', 'site_admin': False}}, {'starred_at': '2015-01-01T13:32:38Z', 'user': {'login': 'sibbl', 'id': 866535, 'node_id': 'MDQ6VXNlcjg2NjUzNQ==', 'avatar_url': 'https://avatars.githubusercontent.com/u/866535?v=4', 'gravatar_id': '', 'url': 'https://api.github.com/users/sibbl', 'html_url': 'https://github.com/sibbl', 'followers_url': 'https://api.github.com/users/sibbl/followers', 'following_url': 'https://api.github.com/users/sibbl/following{/other_user}', 'gists_url': 'https://api.github.com/users/sibbl/gists{/gist_id}', 'starred_url': 'https://api.github.com/users/sibbl/starred{/owner}{/repo}', 'subscriptions_url': 'https://api.github.com/users/sibbl/subscriptions', 'organizations_url': 'https://api.github.com/users/sibbl/orgs', 'repos_url': 'https://api.github.com/users/sibbl/repos', 'events_url': 'https://api.github.com/users/sibbl/events{/privacy}', 'received_events_url': 'https://api.github.com/users/sibbl/received_events', 'type': 'User', 'site_admin': False}}, {'starred_at': '2015-01-01T14:16:35Z', 'user': {'login': 'afaqurk', 'id': 751323, 'node_id': 'MDQ6VXNlcjc1MTMyMw==', 'avatar_url': 'https://avatars.githubusercontent.com/u/751323?v=4', 'gravatar_id': '', 'url': 'https://api.github.com/users/afaqurk', 'html_url': 'https://github.com/afaqurk', 'followers_url': 'https://api.github.com/users/afaqurk/followers', 'following_url': 'https://api.github.com/users/afaqurk/following{/other_user}', 'gists_url': 'https://api.github.com/users/afaqurk/gists{/gist_id}', 'starred_url': 'https://api.github.com/users/afaqurk/starred{/owner}{/repo}', 'subscriptions_url': 'https://api.github.com/users/afaqurk/subscriptions', 'organizations_url': 'https://api.github.com/users/afaqurk/orgs', 'repos_url': 'https://api.github.com/users/afaqurk/repos', 'events_url': 'https://api.github.com/users/afaqurk/events{/privacy}', 'received_events_url': 'https://api.github.com/users/afaqurk/received_events', 'type': 'User', 'site_admin': False}}, {'starred_at': '2015-01-01T18:49:04Z', 'user': {'login': 'N0FJ', 'id': 4180569, 'node_id': 'MDQ6VXNlcjQxODA1Njk=', 'avatar_url': 'https://avatars.githubusercontent.com/u/4180569?v=4', 'gravatar_id': '', 'url': 'https://api.github.com/users/N0FJ', 'html_url': 'https://github.com/N0FJ', 'followers_url': 'https://api.github.com/users/N0FJ/followers', 'following_url': 'https://api.github.com/users/N0FJ/following{/other_user}', 'gists_url': 'https://api.github.com/users/N0FJ/gists{/gist_id}', 'starred_url': 'https://api.github.com/users/N0FJ/starred{/owner}{/repo}', 'subscriptions_url': 'https://api.github.com/users/N0FJ/subscriptions', 'organizations_url': 'https://api.github.com/users/N0FJ/orgs', 'repos_url': 'https://api.github.com/users/N0FJ/repos', 'events_url': 'https://api.github.com/users/N0FJ/events{/privacy}', 'received_events_url': 'https://api.github.com/users/N0FJ/received_events', 'type': 'User', 'site_admin': False}}, {'starred_at': '2015-01-01T20:38:55Z', 'user': {'login': 'tioteath', 'id': 7210800, 'node_id': 'MDQ6VXNlcjcyMTA4MDA=', 'avatar_url': 'https://avatars.githubusercontent.com/u/7210800?v=4', 'gravatar_id': '', 'url': 'https://api.github.com/users/tioteath', 'html_url': 'https://github.com/tioteath', 'followers_url': 'https://api.github.com/users/tioteath/followers', 'following_url': 'https://api.github.com/users/tioteath/following{/other_user}', 'gists_url': 'https://api.github.com/users/tioteath/gists{/gist_id}', 'starred_url': 'https://api.github.com/users/tioteath/starred{/owner}{/repo}', 'subscriptions_url': 'https://api.github.com/users/tioteath/subscriptions', 'organizations_url': 'https://api.github.com/users/tioteath/orgs', 'repos_url': 'https://api.github.com/users/tioteath/repos', 'events_url': 'https://api.github.com/users/tioteath/events{/privacy}', 'received_events_url': 'https://api.github.com/users/tioteath/received_events', 'type': 'User', 'site_admin': False}}, {'starred_at': '2015-01-02T06:19:32Z', 'user': {'login': 'mrsmartpants', 'id': 5080834, 'node_id': 'MDQ6VXNlcjUwODA4MzQ=', 'avatar_url': 'https://avatars.githubusercontent.com/u/5080834?v=4', 'gravatar_id': '', 'url': 'https://api.github.com/users/mrsmartpants', 'html_url': 'https://github.com/mrsmartpants', 'followers_url': 'https://api.github.com/users/mrsmartpants/followers', 'following_url': 'https://api.github.com/users/mrsmartpants/following{/other_user}', 'gists_url': 'https://api.github.com/users/mrsmartpants/gists{/gist_id}', 'starred_url': 'https://api.github.com/users/mrsmartpants/starred{/owner}{/repo}', 'subscriptions_url': 'https://api.github.com/users/mrsmartpants/subscriptions', 'organizations_url': 'https://api.github.com/users/mrsmartpants/orgs', 'repos_url': 'https://api.github.com/users/mrsmartpants/repos', 'events_url': 'https://api.github.com/users/mrsmartpants/events{/privacy}', 'received_events_url': 'https://api.github.com/users/mrsmartpants/received_events', 'type': 'User', 'site_admin': False}}, {'starred_at': '2015-01-02T14:31:39Z', 'user': {'login': 'pmaingi', 'id': 612859, 'node_id': 'MDQ6VXNlcjYxMjg1OQ==', 'avatar_url': 'https://avatars.githubusercontent.com/u/612859?v=4', 'gravatar_id': '', 'url': 'https://api.github.com/users/pmaingi', 'html_url': 'https://github.com/pmaingi', 'followers_url': 'https://api.github.com/users/pmaingi/followers', 'following_url': 'https://api.github.com/users/pmaingi/following{/other_user}', 'gists_url': 'https://api.github.com/users/pmaingi/gists{/gist_id}', 'starred_url': 'https://api.github.com/users/pmaingi/starred{/owner}{/repo}', 'subscriptions_url': 'https://api.github.com/users/pmaingi/subscriptions', 'organizations_url': 'https://api.github.com/users/pmaingi/orgs', 'repos_url': 'https://api.github.com/users/pmaingi/repos', 'events_url': 'https://api.github.com/users/pmaingi/events{/privacy}', 'received_events_url': 'https://api.github.com/users/pmaingi/received_events', 'type': 'User', 'site_admin': False}}, {'starred_at': '2015-01-03T20:29:51Z', 'user': {'login': 'johncipponeri', 'id': 5194052, 'node_id': 'MDQ6VXNlcjUxOTQwNTI=', 'avatar_url': 'https://avatars.githubusercontent.com/u/5194052?v=4', 'gravatar_id': '', 'url': 'https://api.github.com/users/johncipponeri', 'html_url': 'https://github.com/johncipponeri', 'followers_url': 'https://api.github.com/users/johncipponeri/followers', 'following_url': 'https://api.github.com/users/johncipponeri/following{/other_user}', 'gists_url': 'https://api.github.com/users/johncipponeri/gists{/gist_id}', 'starred_url': 'https://api.github.com/users/johncipponeri/starred{/owner}{/repo}', 'subscriptions_url': 'https://api.github.com/users/johncipponeri/subscriptions', 'organizations_url': 'https://api.github.com/users/johncipponeri/orgs', 'repos_url': 'https://api.github.com/users/johncipponeri/repos', 'events_url': 'https://api.github.com/users/johncipponeri/events{/privacy}', 'received_events_url': 'https://api.github.com/users/johncipponeri/received_events', 'type': 'User', 'site_admin': False}}, {'starred_at': '2015-01-03T21:23:19Z', 'user': {'login': 'Ting-y', 'id': 5705890, 'node_id': 'MDQ6VXNlcjU3MDU4OTA=', 'avatar_url': 'https://avatars.githubusercontent.com/u/5705890?v=4', 'gravatar_id': '', 'url': 'https://api.github.com/users/Ting-y', 'html_url': 'https://github.com/Ting-y', 'followers_url': 'https://api.github.com/users/Ting-y/followers', 'following_url': 'https://api.github.com/users/Ting-y/following{/other_user}', 'gists_url': 'https://api.github.com/users/Ting-y/gists{/gist_id}', 'starred_url': 'https://api.github.com/users/Ting-y/starred{/owner}{/repo}', 'subscriptions_url': 'https://api.github.com/users/Ting-y/subscriptions', 'organizations_url': 'https://api.github.com/users/Ting-y/orgs', 'repos_url': 'https://api.github.com/users/Ting-y/repos', 'events_url': 'https://api.github.com/users/Ting-y/events{/privacy}', 'received_events_url': 'https://api.github.com/users/Ting-y/received_events', 'type': 'User', 'site_admin': False}}, {'starred_at': '2015-01-03T21:42:17Z', 'user': {'login': 'twoflowers', 'id': 515426, 'node_id': 'MDQ6VXNlcjUxNTQyNg==', 'avatar_url': 'https://avatars.githubusercontent.com/u/515426?v=4', 'gravatar_id': '', 'url': 'https://api.github.com/users/twoflowers', 'html_url': 'https://github.com/twoflowers', 'followers_url': 'https://api.github.com/users/twoflowers/followers', 'following_url': 'https://api.github.com/users/twoflowers/following{/other_user}', 'gists_url': 'https://api.github.com/users/twoflowers/gists{/gist_id}', 'starred_url': 'https://api.github.com/users/twoflowers/starred{/owner}{/repo}', 'subscriptions_url': 'https://api.github.com/users/twoflowers/subscriptions', 'organizations_url': 'https://api.github.com/users/twoflowers/orgs', 'repos_url': 'https://api.github.com/users/twoflowers/repos', 'events_url': 'https://api.github.com/users/twoflowers/events{/privacy}', 'received_events_url': 'https://api.github.com/users/twoflowers/received_events', 'type': 'User', 'site_admin': False}}, {'starred_at': '2015-01-03T22:17:42Z', 'user': {'login': 'Swelly', 'id': 3290094, 'node_id': 'MDQ6VXNlcjMyOTAwOTQ=', 'avatar_url': 'https://avatars.githubusercontent.com/u/3290094?v=4', 'gravatar_id': '', 'url': 'https://api.github.com/users/Swelly', 'html_url': 'https://github.com/Swelly', 'followers_url': 'https://api.github.com/users/Swelly/followers', 'following_url': 'https://api.github.com/users/Swelly/following{/other_user}', 'gists_url': 'https://api.github.com/users/Swelly/gists{/gist_id}', 'starred_url': 'https://api.github.com/users/Swelly/starred{/owner}{/repo}', 'subscriptions_url': 'https://api.github.com/users/Swelly/subscriptions', 'organizations_url': 'https://api.github.com/users/Swelly/orgs', 'repos_url': 'https://api.github.com/users/Swelly/repos', 'events_url': 'https://api.github.com/users/Swelly/events{/privacy}', 'received_events_url': 'https://api.github.com/users/Swelly/received_events', 'type': 'User', 'site_admin': False}}, {'starred_at': '2015-01-03T22:41:40Z', 'user': {'login': 'pabloangeletti', 'id': 1434676, 'node_id': 'MDQ6VXNlcjE0MzQ2NzY=', 'avatar_url': 'https://avatars.githubusercontent.com/u/1434676?v=4', 'gravatar_id': '', 'url': 'https://api.github.com/users/pabloangeletti', 'html_url': 'https://github.com/pabloangeletti', 'followers_url': 'https://api.github.com/users/pabloangeletti/followers', 'following_url': 'https://api.github.com/users/pabloangeletti/following{/other_user}', 'gists_url': 'https://api.github.com/users/pabloangeletti/gists{/gist_id}', 'starred_url': 'https://api.github.com/users/pabloangeletti/starred{/owner}{/repo}', 'subscriptions_url': 'https://api.github.com/users/pabloangeletti/subscriptions', 'organizations_url': 'https://api.github.com/users/pabloangeletti/orgs', 'repos_url': 'https://api.github.com/users/pabloangeletti/repos', 'events_url': 'https://api.github.com/users/pabloangeletti/events{/privacy}', 'received_events_url': 'https://api.github.com/users/pabloangeletti/received_events', 'type': 'User', 'site_admin': False}}]\n"
          ]
        }
      ]
    },
    {
      "cell_type": "markdown",
      "source": [
        "## Contributors"
      ],
      "metadata": {
        "id": "s-OSKWJhZcOk"
      }
    },
    {
      "cell_type": "code",
      "source": [
        "\n",
        "user_str, repo_str = 'https://github.com/freeCodeCamp/freeCodeCamp'.replace(\"https://github.com/\", \"\").split(\"/\")\n",
        "\n",
        "user = git_obj.get_user(user_str)\n",
        "repo = user.get_repo(repo_str)\n",
        "\n",
        "\n",
        "#total contributors\n",
        "repo.get_contributors().totalCount"
      ],
      "metadata": {
        "colab": {
          "base_uri": "https://localhost:8080/"
        },
        "id": "T04CNfwWV3D6",
        "outputId": "53536246-841c-4871-8799-ca008907e0a0"
      },
      "execution_count": null,
      "outputs": [
        {
          "output_type": "execute_result",
          "data": {
            "text/plain": [
              "406"
            ]
          },
          "metadata": {},
          "execution_count": 223
        }
      ]
    },
    {
      "cell_type": "code",
      "source": [
        "url = 'https://api.github.com/repos/freeCodeCamp/freeCodeCamp/contributors?per_page=1&anon=true'\n",
        "\n",
        "\n",
        "#use request module to get url's data\n",
        "results = requests.get(url)\n",
        "\n",
        "test = results.headers\n"
      ],
      "metadata": {
        "id": "ifGoCfppZfnG"
      },
      "execution_count": null,
      "outputs": []
    },
    {
      "cell_type": "code",
      "source": [
        "dict(test)['Link']"
      ],
      "metadata": {
        "colab": {
          "base_uri": "https://localhost:8080/",
          "height": 53
        },
        "id": "MKIRbLZ1fylA",
        "outputId": "a0af883a-0064-48a9-9682-fe838878eb4c"
      },
      "execution_count": null,
      "outputs": [
        {
          "output_type": "execute_result",
          "data": {
            "text/plain": [
              "'<https://api.github.com/repositories/28457823/contributors?per_page=1&anon=true&page=2>; rel=\"next\", <https://api.github.com/repositories/28457823/contributors?per_page=1&anon=true&page=4884>; rel=\"last\"'"
            ],
            "application/vnd.google.colaboratory.intrinsic+json": {
              "type": "string"
            }
          },
          "metadata": {},
          "execution_count": 269
        }
      ]
    },
    {
      "cell_type": "code",
      "source": [
        "repo_df = pd.DataFrame(repos)"
      ],
      "metadata": {
        "id": "o3bzP7VqcExK"
      },
      "execution_count": null,
      "outputs": []
    },
    {
      "cell_type": "code",
      "source": [
        "#convert to json string\n",
        "test_dict = json.dumps(dict(test))\n",
        "\n",
        "test_dict"
      ],
      "metadata": {
        "colab": {
          "base_uri": "https://localhost:8080/",
          "height": 174
        },
        "id": "XwxuuSZTzNKB",
        "outputId": "1e188018-dfaf-4922-a486-ea5e81605784"
      },
      "execution_count": null,
      "outputs": [
        {
          "output_type": "execute_result",
          "data": {
            "text/plain": [
              "'{\"Server\": \"GitHub.com\", \"Date\": \"Sun, 12 Jun 2022 19:58:37 GMT\", \"Content-Type\": \"application/json; charset=utf-8\", \"Cache-Control\": \"public, max-age=60, s-maxage=60\", \"Vary\": \"Accept, Accept-Encoding, Accept, X-Requested-With\", \"ETag\": \"W/\\\\\"e5f9c870f98f312133f917228ddd147bcec8a21f96b96762a18aa5f5a463eeea\\\\\"\", \"Last-Modified\": \"Sun, 12 Jun 2022 19:37:37 GMT\", \"X-GitHub-Media-Type\": \"github.v3; format=json\", \"Link\": \"<https://api.github.com/repositories/28457823/contributors?per_page=1&anon=true&page=2>; rel=\\\\\"next\\\\\", <https://api.github.com/repositories/28457823/contributors?per_page=1&anon=true&page=4884>; rel=\\\\\"last\\\\\"\", \"Access-Control-Expose-Headers\": \"ETag, Link, Location, Retry-After, X-GitHub-OTP, X-RateLimit-Limit, X-RateLimit-Remaining, X-RateLimit-Used, X-RateLimit-Resource, X-RateLimit-Reset, X-OAuth-Scopes, X-Accepted-OAuth-Scopes, X-Poll-Interval, X-GitHub-Media-Type, X-GitHub-SSO, X-GitHub-Request-Id, Deprecation, Sunset\", \"Access-Control-Allow-Origin\": \"*\", \"Strict-Transport-Security\": \"max-age=31536000; includeSubdomains; preload\", \"X-Frame-Options\": \"deny\", \"X-Content-Type-Options\": \"nosniff\", \"X-XSS-Protection\": \"0\", \"Referrer-Policy\": \"origin-when-cross-origin, strict-origin-when-cross-origin\", \"Content-Security-Policy\": \"default-src \\'none\\'\", \"Content-Encoding\": \"gzip\", \"X-RateLimit-Limit\": \"60\", \"X-RateLimit-Remaining\": \"47\", \"X-RateLimit-Reset\": \"1655064869\", \"X-RateLimit-Resource\": \"core\", \"X-RateLimit-Used\": \"13\", \"Accept-Ranges\": \"bytes\", \"Content-Length\": \"342\", \"X-GitHub-Request-Id\": \"9C50:59AD:16EFE8D:4761FAC:62A6456C\"}'"
            ],
            "application/vnd.google.colaboratory.intrinsic+json": {
              "type": "string"
            }
          },
          "metadata": {},
          "execution_count": 277
        }
      ]
    },
    {
      "cell_type": "code",
      "source": [
        "x = re.findall('true&page=(\\d+)', test_dict)\n",
        "\n",
        "x[1]"
      ],
      "metadata": {
        "colab": {
          "base_uri": "https://localhost:8080/",
          "height": 35
        },
        "id": "gxjeQ3M5c8bO",
        "outputId": "7cdaab8c-d0a9-452e-d894-9360ef2947c7"
      },
      "execution_count": null,
      "outputs": [
        {
          "output_type": "execute_result",
          "data": {
            "text/plain": [
              "'4884'"
            ],
            "application/vnd.google.colaboratory.intrinsic+json": {
              "type": "string"
            }
          },
          "metadata": {},
          "execution_count": 285
        }
      ]
    },
    {
      "cell_type": "markdown",
      "source": [
        "## Apendix Code"
      ],
      "metadata": {
        "id": "Q3AEYU7BuqPy"
      }
    },
    {
      "cell_type": "code",
      "source": [
        "#####################################\n",
        "###Step 2 Load Issue Contents to DICT\n",
        "print('Step 2: Load Issues to DICT')\n",
        "\n",
        "#progress bar\n",
        "max_count = len(issue_content_list) #max loops (ie. isuues) needed\n",
        "status_bar_ii = IntProgress(min = 1, max = max_count) # create status-bar (starts at 1)\n",
        "display(status_bar_ii)\n",
        "\n",
        "#intialize: empty dict\n",
        "repo_dict = {}\n",
        "total_count = 'out of ' + str(max_count) + ' issues' #for current issue dynamic update\n",
        "core_rate_limit = git_obj.get_rate_limit().core\n",
        "\n",
        "for issue_content in issue_content_list:\n",
        "  #dynamically print current issue & API limit\n",
        "  print('process issue: ', f'\\r{status_bar_ii.value, total_count, core_rate_limit}', end = '', flush = True)\n",
        "\n",
        "  #API Throttle\n",
        "  try:\n",
        "    issue_dict = {'title': issue_content.title, #title of issue\n",
        "                  'body': issue_content.body, #original comment\n",
        "                  'created_at': issue_content.created_at, #dtm of issue\n",
        "                  'state': issue_content.state,\n",
        "                  'comments': [comment.body for comment in issue_content.get_comments()], #follow-up comments\n",
        "                  'comment_user': [comment.user.id for comment in issue_content.get_comments()], #follow-up commentor user-ID\n",
        "                  #reactions for ea. comment in ea. issue\n",
        "                  'comment_react': [ \n",
        "                                    [reaction.content for reaction in comment.get_reactions()] #nested loop\n",
        "                                    for comment in issue_content.get_comments()]\n",
        "                  }\n",
        "                  \n",
        "    #add to dict: ea. Issue (many comments) belongs to one key in dict\n",
        "    repo_dict[issue_content.number] = issue_dict\n",
        "\n",
        "    #for status bar:\n",
        "    status_bar_ii.value += 1 #update status-bar\n",
        "    #for calculating Github API limit:\n",
        "    core_rate_limit = git_obj.get_rate_limit().core\n",
        "    \n",
        "    if core_rate_limit.remaining <= 50:\n",
        "      reset_timestamp = calendar.timegm(core_rate_limit.reset.timetuple()) #returns the corresponding Unix timestamp value\n",
        "      sleep_time = reset_timestamp - calendar.timegm(time.gmtime()) + 5 #add 5 sec (1-hr reset time calc. at start of execution)\n",
        "      print('\\nsleeping for:', sleep_time/60, 'mins;', ' at issue:', status_bar_ii.value, '###API hourly refresh limit: ', core_rate_limit)\n",
        "      time.sleep(sleep_time) \n",
        "\n",
        "  #after sleeping, continue back into above loop  \n",
        "  except:\n",
        "    continue\n",
        "\n",
        "#saving DICT to file\n",
        "with open('repo_dict.pkl', 'wb') as f:\n",
        "    pickle.dump(repo_dict, f)\n",
        "\n",
        "print('\\n***repo_dict: processing Issues into DICT complete!***', end = '\\n')"
      ],
      "metadata": {
        "id": "aN3u8ffjS9Ld"
      },
      "execution_count": null,
      "outputs": []
    },
    {
      "cell_type": "code",
      "source": [
        "#explore other code\n",
        "\n",
        "from github import Github\n",
        "# using username and password\n",
        "# or using an access token\n",
        "g = Github(\"***************************\")\n",
        "for repo in g.get_user().get_repos():\n",
        "    print(repo.name)\n",
        "\n",
        "print(\"**********Get Current Repos**********\")\n",
        "user = g.get_user()\n",
        "user.login\n",
        "print(user.login)\n",
        "repo = g.get_repo(\"<any-repo>/<any-repo>\")\n",
        "repo.name\n",
        "print(repo.name)\n",
        "print(\"********Get the Repo Topics**************\")\n",
        "\n",
        "repo = g.get_repo(\"<any-repo>/<any-repo>\")\n",
        "repo.get_topics()\n",
        "print(repo.get_topics())\n",
        "\n",
        "print(\"*****Get the Star Count*************\")\n",
        "repo = g.get_repo(\"<any-repo>/<any-repo>\")\n",
        "repo.stargazers_count\n",
        "print(repo.stargazers_count)\n",
        "print(\"********Get the Open Issues*********\")\n",
        "repo = g.get_repo(\"<any-repo>/<any-repo>\")\n",
        "open_issues = repo.get_issues(state='open')\n",
        "for issue in open_issues:\n",
        "    print(issue)\n",
        "\n",
        "print(\"******Get the Branch Count*******\")\n",
        "repo = g.get_repo(\"<any-repo>/<any-repo>\")\n",
        "print(list(repo.get_branches()))"
      ],
      "metadata": {
        "colab": {
          "base_uri": "https://localhost:8080/",
          "height": 164
        },
        "id": "mFvmdmshcd7Q",
        "outputId": "3e7a9700-11a0-4a91-fc88-40abce8d38a4"
      },
      "execution_count": null,
      "outputs": [
        {
          "output_type": "error",
          "ename": "NameError",
          "evalue": "ignored",
          "traceback": [
            "\u001b[0;31m---------------------------------------------------------------------------\u001b[0m",
            "\u001b[0;31mNameError\u001b[0m                                 Traceback (most recent call last)",
            "\u001b[0;32m<ipython-input-17-685a27006ed8>\u001b[0m in \u001b[0;36m<module>\u001b[0;34m()\u001b[0m\n\u001b[0;32m----> 1\u001b[0;31m \u001b[0mreal_issues\u001b[0m\u001b[0;34m\u001b[0m\u001b[0;34m\u001b[0m\u001b[0m\n\u001b[0m",
            "\u001b[0;31mNameError\u001b[0m: name 'real_issues' is not defined"
          ]
        }
      ]
    },
    {
      "cell_type": "code",
      "source": [
        "#input url\n",
        "#repo_url = 'https://github.com/freeCodeCamp/freeCodeCamp'\n",
        "#repo_url = 'https://github.com/lse-my470/assignment-8-centipede'\n",
        "repo_url = 'https://github.com/borisdayma/dalle-mini'\n",
        "\n",
        "\n",
        "user_str, repo_str = repo_url.replace(\"https://github.com/\", \"\").split(\"/\")\n",
        "user = git_obj.get_user(user_str)\n",
        "repo = user.get_repo(repo_str)\n",
        "issues = repo.get_issues(state=\"all\")\n",
        "\n",
        "\n",
        "#####################################\n",
        "###Step 1 Load All Issues\n",
        "print('Step 1: Load all Issues')\n",
        "\n",
        "#progress bar\n",
        "#ref. https://stackoverflow.com/questions/38861829/how-do-i-implement-a-progress-bar\n",
        "max_count = round(issues.totalCount / 30) #max loops (ie. pages) needed\n",
        "status_bar = IntProgress(min = 0, max = max_count) # create status-bar\n",
        "display(status_bar)\n",
        "\n",
        "#intialize: empty list\n",
        "issue_content_list = []\n",
        "total_page = 'out of ' + str(max_count) + ' pages' #for current page dynamic update\n",
        "core_rate_limit = git_obj.get_rate_limit().core\n",
        "\n",
        "#issues-obj contains all the issues + PR of a repo\n",
        "#ea. page (more issues = more pages) contains a list of issues, only keep issues that are real-git-issues (not PRs)\n",
        "for page_num in range(round(issues.totalCount / 30) + 1):\n",
        "  #print('page: ', page_num, 'out of', max_count, 'API limit: ', core_rate_limit)\n",
        "  #dynamically print current page_num & API limit\n",
        "  print('page: ', f'\\r{page_num, total_page, core_rate_limit}', end = '', flush = True)\n",
        "\n",
        "  #API throttle\n",
        "  try:\n",
        "\n",
        "    #normal operations\n",
        "    for issue_content in issues.get_page(page_num):\n",
        "      if not issue_content.pull_request:\n",
        "        issue_content_list.append(issue_content)\n",
        "\n",
        "    #for status bar (before next page_num):\n",
        "    status_bar.value += 1 #update status-bar\n",
        "    #for calculating Github API limit:\n",
        "    core_rate_limit = git_obj.get_rate_limit().core\n",
        "\n",
        "    if core_rate_limit.remaining <= 100:\n",
        "      reset_timestamp = calendar.timegm(core_rate_limit.reset.timetuple()) #returns the corresponding Unix timestamp value\n",
        "      sleep_time = reset_timestamp - calendar.timegm(time.gmtime()) + 5 #add 5 seconds to be sure the rate limit has been reset\n",
        "      print('sleeping for 1-hr at page: ', page_num, 'API limit: ', core_rate_limit)\n",
        "      time.sleep(sleep_time)\n",
        "\n",
        "  #after sleeping, continue back into above loop  \n",
        "  except:\n",
        "    continue\n",
        "\n",
        "#####################################\n",
        "print('issue_content_list: loading Repo Issues Complete!')\n",
        "\n",
        "\n",
        "#####################################\n",
        "###Step 2 Load Issue Contents to DICT\n",
        "print('Step 2: Load Issues to DICT')\n",
        "\n",
        "#progress bar\n",
        "max_count = len(issue_content_list) #max loops (ie. pages) needed\n",
        "status_bar = IntProgress(min = 0, max = max_count) # create status-bar\n",
        "display(status_bar)\n",
        "\n",
        "#intialize: empty dict\n",
        "rtn = {}\n",
        "total_page = 'out of ' + str(max_count) + ' pages' #for current page dynamic update\n",
        "core_rate_limit = git_obj.get_rate_limit().core\n",
        "\n",
        "for issue_content in issue_content_list:\n",
        "  iss_dict = {\"title\": issue_content.title, #title of issue\n",
        "              \"body\": issue_content.body, #original comment\n",
        "              \"create_dt\": issue_content.created_at, #dtm of issue\n",
        "              \"state\": issue_content.state,\n",
        "              \"comments\": [comment.body for comment in issue_content.get_comments()], #follow-up comments\n",
        "              \"comment_user\": [comment.user.id for comment in issue_content.get_comments()], #follow-up commentor user-ID\n",
        "              \"comment_reaction\": [reaction.content for reaction in comment.get_reactions() for comment in issue_content.get_comments()] #follow-up commentor user-ID\n",
        "              }\n",
        "  #each Issue (many comments) belongs to one key in dictionary\n",
        "  rtn[issue_content.number] = iss_dict\n",
        "\n",
        "\n",
        "#progress bar\n",
        "#ref. https://stackoverflow.com/questions/38861829/how-do-i-implement-a-progress-bar\n",
        "max_count = round(issues.totalCount / 30) #max loops (ie. pages) needed\n",
        "status_bar = IntProgress(min = 0, max = max_count) # create status-bar\n",
        "display(status_bar)"
      ],
      "metadata": {
        "id": "wBGKC5G2rA__"
      },
      "execution_count": null,
      "outputs": []
    }
  ]
}